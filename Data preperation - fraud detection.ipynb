{
 "cells": [
  {
   "cell_type": "code",
   "execution_count": 362,
   "id": "f47a5ed4",
   "metadata": {},
   "outputs": [],
   "source": [
    "#!pip install pandas\n",
    "import pandas as pd\n",
    "#!pip install numpy\n",
    "import numpy as np\n",
    "import matplotlib.pyplot as plt\n",
    "import seaborn as sns\n",
    "import warnings\n",
    "warnings.filterwarnings(\"ignore\")\n",
    "%matplotlib inline"
   ]
  },
  {
   "cell_type": "markdown",
   "id": "023d1cab",
   "metadata": {},
   "source": [
    "# DATA PREP"
   ]
  },
  {
   "cell_type": "markdown",
   "id": "712838e2",
   "metadata": {},
   "source": [
    "Uploading the data"
   ]
  },
  {
   "cell_type": "code",
   "execution_count": 363,
   "id": "5e1e991b",
   "metadata": {},
   "outputs": [],
   "source": [
    "import dask.dataframe as dd\n",
    "df1 = pd.read_csv(r\"Desktop\\df_2019_q4.csv\")\n",
    "df2 = pd.read_csv(r\"Desktop\\customers.csv\", sep='|')"
   ]
  },
  {
   "cell_type": "code",
   "execution_count": 364,
   "id": "6439c8e1",
   "metadata": {},
   "outputs": [
    {
     "data": {
      "text/html": [
       "<div>\n",
       "<style scoped>\n",
       "    .dataframe tbody tr th:only-of-type {\n",
       "        vertical-align: middle;\n",
       "    }\n",
       "\n",
       "    .dataframe tbody tr th {\n",
       "        vertical-align: top;\n",
       "    }\n",
       "\n",
       "    .dataframe thead th {\n",
       "        text-align: right;\n",
       "    }\n",
       "</style>\n",
       "<table border=\"1\" class=\"dataframe\">\n",
       "  <thead>\n",
       "    <tr style=\"text-align: right;\">\n",
       "      <th></th>\n",
       "      <th>Unnamed: 0</th>\n",
       "      <th>ssn</th>\n",
       "      <th>cc_num</th>\n",
       "      <th>first</th>\n",
       "      <th>last</th>\n",
       "      <th>gender</th>\n",
       "      <th>street</th>\n",
       "      <th>city</th>\n",
       "      <th>state</th>\n",
       "      <th>zip</th>\n",
       "      <th>...</th>\n",
       "      <th>trans_time</th>\n",
       "      <th>unix_time</th>\n",
       "      <th>category</th>\n",
       "      <th>amt</th>\n",
       "      <th>is_fraud</th>\n",
       "      <th>merchant</th>\n",
       "      <th>merch_lat</th>\n",
       "      <th>merch_long</th>\n",
       "      <th>year</th>\n",
       "      <th>quarter</th>\n",
       "    </tr>\n",
       "  </thead>\n",
       "  <tbody>\n",
       "    <tr>\n",
       "      <th>0</th>\n",
       "      <td>16</td>\n",
       "      <td>077-66-9719</td>\n",
       "      <td>6569371776571759</td>\n",
       "      <td>Judith</td>\n",
       "      <td>Long</td>\n",
       "      <td>F</td>\n",
       "      <td>501 Bullock Port Suite 284</td>\n",
       "      <td>Port Washington</td>\n",
       "      <td>NY</td>\n",
       "      <td>11050</td>\n",
       "      <td>...</td>\n",
       "      <td>01:08:05</td>\n",
       "      <td>1577302685</td>\n",
       "      <td>grocery_pos</td>\n",
       "      <td>12.78</td>\n",
       "      <td>1</td>\n",
       "      <td>fraud_Bauch-Raynor</td>\n",
       "      <td>41.622025</td>\n",
       "      <td>-74.287152</td>\n",
       "      <td>2019</td>\n",
       "      <td>4</td>\n",
       "    </tr>\n",
       "    <tr>\n",
       "      <th>1</th>\n",
       "      <td>17</td>\n",
       "      <td>077-66-9719</td>\n",
       "      <td>6569371776571759</td>\n",
       "      <td>Judith</td>\n",
       "      <td>Long</td>\n",
       "      <td>F</td>\n",
       "      <td>501 Bullock Port Suite 284</td>\n",
       "      <td>Port Washington</td>\n",
       "      <td>NY</td>\n",
       "      <td>11050</td>\n",
       "      <td>...</td>\n",
       "      <td>01:33:53</td>\n",
       "      <td>1577304233</td>\n",
       "      <td>grocery_pos</td>\n",
       "      <td>13.74</td>\n",
       "      <td>1</td>\n",
       "      <td>fraud_Wolf Inc</td>\n",
       "      <td>40.405458</td>\n",
       "      <td>-74.299585</td>\n",
       "      <td>2019</td>\n",
       "      <td>4</td>\n",
       "    </tr>\n",
       "    <tr>\n",
       "      <th>2</th>\n",
       "      <td>18</td>\n",
       "      <td>077-66-9719</td>\n",
       "      <td>6569371776571759</td>\n",
       "      <td>Judith</td>\n",
       "      <td>Long</td>\n",
       "      <td>F</td>\n",
       "      <td>501 Bullock Port Suite 284</td>\n",
       "      <td>Port Washington</td>\n",
       "      <td>NY</td>\n",
       "      <td>11050</td>\n",
       "      <td>...</td>\n",
       "      <td>03:26:31</td>\n",
       "      <td>1577310991</td>\n",
       "      <td>grocery_pos</td>\n",
       "      <td>9.41</td>\n",
       "      <td>1</td>\n",
       "      <td>fraud_Schultz, Simonis and Little</td>\n",
       "      <td>40.050169</td>\n",
       "      <td>-74.325142</td>\n",
       "      <td>2019</td>\n",
       "      <td>4</td>\n",
       "    </tr>\n",
       "    <tr>\n",
       "      <th>3</th>\n",
       "      <td>19</td>\n",
       "      <td>077-66-9719</td>\n",
       "      <td>6569371776571759</td>\n",
       "      <td>Judith</td>\n",
       "      <td>Long</td>\n",
       "      <td>F</td>\n",
       "      <td>501 Bullock Port Suite 284</td>\n",
       "      <td>Port Washington</td>\n",
       "      <td>NY</td>\n",
       "      <td>11050</td>\n",
       "      <td>...</td>\n",
       "      <td>01:05:28</td>\n",
       "      <td>1577302528</td>\n",
       "      <td>gas_transport</td>\n",
       "      <td>277.84</td>\n",
       "      <td>1</td>\n",
       "      <td>fraud_Torp-Labadie</td>\n",
       "      <td>40.328734</td>\n",
       "      <td>-72.938980</td>\n",
       "      <td>2019</td>\n",
       "      <td>4</td>\n",
       "    </tr>\n",
       "    <tr>\n",
       "      <th>4</th>\n",
       "      <td>20</td>\n",
       "      <td>077-66-9719</td>\n",
       "      <td>6569371776571759</td>\n",
       "      <td>Judith</td>\n",
       "      <td>Long</td>\n",
       "      <td>F</td>\n",
       "      <td>501 Bullock Port Suite 284</td>\n",
       "      <td>Port Washington</td>\n",
       "      <td>NY</td>\n",
       "      <td>11050</td>\n",
       "      <td>...</td>\n",
       "      <td>09:47:00</td>\n",
       "      <td>1577333820</td>\n",
       "      <td>gas_transport</td>\n",
       "      <td>299.67</td>\n",
       "      <td>1</td>\n",
       "      <td>fraud_Emard Inc</td>\n",
       "      <td>41.670631</td>\n",
       "      <td>-74.218224</td>\n",
       "      <td>2019</td>\n",
       "      <td>4</td>\n",
       "    </tr>\n",
       "  </tbody>\n",
       "</table>\n",
       "<p>5 rows × 29 columns</p>\n",
       "</div>"
      ],
      "text/plain": [
       "   Unnamed: 0          ssn            cc_num   first  last gender  \\\n",
       "0          16  077-66-9719  6569371776571759  Judith  Long      F   \n",
       "1          17  077-66-9719  6569371776571759  Judith  Long      F   \n",
       "2          18  077-66-9719  6569371776571759  Judith  Long      F   \n",
       "3          19  077-66-9719  6569371776571759  Judith  Long      F   \n",
       "4          20  077-66-9719  6569371776571759  Judith  Long      F   \n",
       "\n",
       "                       street             city state    zip  ...  trans_time  \\\n",
       "0  501 Bullock Port Suite 284  Port Washington    NY  11050  ...    01:08:05   \n",
       "1  501 Bullock Port Suite 284  Port Washington    NY  11050  ...    01:33:53   \n",
       "2  501 Bullock Port Suite 284  Port Washington    NY  11050  ...    03:26:31   \n",
       "3  501 Bullock Port Suite 284  Port Washington    NY  11050  ...    01:05:28   \n",
       "4  501 Bullock Port Suite 284  Port Washington    NY  11050  ...    09:47:00   \n",
       "\n",
       "    unix_time       category     amt is_fraud  \\\n",
       "0  1577302685    grocery_pos   12.78        1   \n",
       "1  1577304233    grocery_pos   13.74        1   \n",
       "2  1577310991    grocery_pos    9.41        1   \n",
       "3  1577302528  gas_transport  277.84        1   \n",
       "4  1577333820  gas_transport  299.67        1   \n",
       "\n",
       "                            merchant  merch_lat merch_long  year quarter  \n",
       "0                 fraud_Bauch-Raynor  41.622025 -74.287152  2019       4  \n",
       "1                     fraud_Wolf Inc  40.405458 -74.299585  2019       4  \n",
       "2  fraud_Schultz, Simonis and Little  40.050169 -74.325142  2019       4  \n",
       "3                 fraud_Torp-Labadie  40.328734 -72.938980  2019       4  \n",
       "4                    fraud_Emard Inc  41.670631 -74.218224  2019       4  \n",
       "\n",
       "[5 rows x 29 columns]"
      ]
     },
     "execution_count": 364,
     "metadata": {},
     "output_type": "execute_result"
    }
   ],
   "source": [
    "df1.head()"
   ]
  },
  {
   "cell_type": "code",
   "execution_count": 365,
   "id": "c14c9951",
   "metadata": {},
   "outputs": [
    {
     "data": {
      "text/plain": [
       "Index(['Unnamed: 0', 'ssn', 'cc_num', 'first', 'last', 'gender', 'street',\n",
       "       'city', 'state', 'zip', 'lat', 'long', 'city_pop', 'job', 'dob',\n",
       "       'acct_num', 'profile', 'trans_num', 'trans_date', 'trans_time',\n",
       "       'unix_time', 'category', 'amt', 'is_fraud', 'merchant', 'merch_lat',\n",
       "       'merch_long', 'year', 'quarter'],\n",
       "      dtype='object')"
      ]
     },
     "execution_count": 365,
     "metadata": {},
     "output_type": "execute_result"
    }
   ],
   "source": [
    "df1.columns"
   ]
  },
  {
   "cell_type": "code",
   "execution_count": 366,
   "id": "6eb9dc50",
   "metadata": {},
   "outputs": [
    {
     "data": {
      "text/plain": [
       "Index(['ssn', 'cc_num', 'first', 'last', 'gender', 'street', 'city', 'state',\n",
       "       'zip', 'lat', 'long', 'city_pop', 'job', 'dob', 'acct_num', 'profile'],\n",
       "      dtype='object')"
      ]
     },
     "execution_count": 366,
     "metadata": {},
     "output_type": "execute_result"
    }
   ],
   "source": [
    "df2.columns"
   ]
  },
  {
   "cell_type": "code",
   "execution_count": 367,
   "id": "9d0b7ff1",
   "metadata": {},
   "outputs": [
    {
     "name": "stdout",
     "output_type": "stream",
     "text": [
      "Common columns: Index(['ssn', 'cc_num', 'first', 'last', 'gender', 'street', 'city', 'state',\n",
      "       'zip', 'lat', 'long', 'city_pop', 'job', 'dob', 'acct_num', 'profile'],\n",
      "      dtype='object')\n"
     ]
    }
   ],
   "source": [
    "# Get the common column names\n",
    "common_columns = df1.columns.intersection(df2.columns)\n",
    "\n",
    "# Display the common columns\n",
    "print(\"Common columns:\", common_columns)"
   ]
  },
  {
   "cell_type": "markdown",
   "id": "3e33cb87",
   "metadata": {},
   "source": [
    "### Merging tables \n",
    "Inner Join                                                                                                                        \n",
    "This type of merge returns only the rows where there is a match between the two dataframes.<br>                                      \n",
    "Outer Join      <br>                                                                                                              This type of merge returns all rows from both dataframes, and fills in NaN where there are no matches."
   ]
  },
  {
   "cell_type": "code",
   "execution_count": 368,
   "id": "eece285e",
   "metadata": {},
   "outputs": [
    {
     "data": {
      "text/html": [
       "<div>\n",
       "<style scoped>\n",
       "    .dataframe tbody tr th:only-of-type {\n",
       "        vertical-align: middle;\n",
       "    }\n",
       "\n",
       "    .dataframe tbody tr th {\n",
       "        vertical-align: top;\n",
       "    }\n",
       "\n",
       "    .dataframe thead th {\n",
       "        text-align: right;\n",
       "    }\n",
       "</style>\n",
       "<table border=\"1\" class=\"dataframe\">\n",
       "  <thead>\n",
       "    <tr style=\"text-align: right;\">\n",
       "      <th></th>\n",
       "      <th>Unnamed: 0</th>\n",
       "      <th>ssn</th>\n",
       "      <th>cc_num</th>\n",
       "      <th>first</th>\n",
       "      <th>last</th>\n",
       "      <th>gender</th>\n",
       "      <th>street</th>\n",
       "      <th>city</th>\n",
       "      <th>state</th>\n",
       "      <th>zip</th>\n",
       "      <th>...</th>\n",
       "      <th>trans_time</th>\n",
       "      <th>unix_time</th>\n",
       "      <th>category</th>\n",
       "      <th>amt</th>\n",
       "      <th>is_fraud</th>\n",
       "      <th>merchant</th>\n",
       "      <th>merch_lat</th>\n",
       "      <th>merch_long</th>\n",
       "      <th>year</th>\n",
       "      <th>quarter</th>\n",
       "    </tr>\n",
       "  </thead>\n",
       "  <tbody>\n",
       "    <tr>\n",
       "      <th>0</th>\n",
       "      <td>16</td>\n",
       "      <td>077-66-9719</td>\n",
       "      <td>6569371776571759</td>\n",
       "      <td>Judith</td>\n",
       "      <td>Long</td>\n",
       "      <td>F</td>\n",
       "      <td>501 Bullock Port Suite 284</td>\n",
       "      <td>Port Washington</td>\n",
       "      <td>NY</td>\n",
       "      <td>11050</td>\n",
       "      <td>...</td>\n",
       "      <td>01:08:05</td>\n",
       "      <td>1577302685</td>\n",
       "      <td>grocery_pos</td>\n",
       "      <td>12.78</td>\n",
       "      <td>1</td>\n",
       "      <td>fraud_Bauch-Raynor</td>\n",
       "      <td>41.622025</td>\n",
       "      <td>-74.287152</td>\n",
       "      <td>2019</td>\n",
       "      <td>4</td>\n",
       "    </tr>\n",
       "    <tr>\n",
       "      <th>1</th>\n",
       "      <td>17</td>\n",
       "      <td>077-66-9719</td>\n",
       "      <td>6569371776571759</td>\n",
       "      <td>Judith</td>\n",
       "      <td>Long</td>\n",
       "      <td>F</td>\n",
       "      <td>501 Bullock Port Suite 284</td>\n",
       "      <td>Port Washington</td>\n",
       "      <td>NY</td>\n",
       "      <td>11050</td>\n",
       "      <td>...</td>\n",
       "      <td>01:33:53</td>\n",
       "      <td>1577304233</td>\n",
       "      <td>grocery_pos</td>\n",
       "      <td>13.74</td>\n",
       "      <td>1</td>\n",
       "      <td>fraud_Wolf Inc</td>\n",
       "      <td>40.405458</td>\n",
       "      <td>-74.299585</td>\n",
       "      <td>2019</td>\n",
       "      <td>4</td>\n",
       "    </tr>\n",
       "    <tr>\n",
       "      <th>2</th>\n",
       "      <td>18</td>\n",
       "      <td>077-66-9719</td>\n",
       "      <td>6569371776571759</td>\n",
       "      <td>Judith</td>\n",
       "      <td>Long</td>\n",
       "      <td>F</td>\n",
       "      <td>501 Bullock Port Suite 284</td>\n",
       "      <td>Port Washington</td>\n",
       "      <td>NY</td>\n",
       "      <td>11050</td>\n",
       "      <td>...</td>\n",
       "      <td>03:26:31</td>\n",
       "      <td>1577310991</td>\n",
       "      <td>grocery_pos</td>\n",
       "      <td>9.41</td>\n",
       "      <td>1</td>\n",
       "      <td>fraud_Schultz, Simonis and Little</td>\n",
       "      <td>40.050169</td>\n",
       "      <td>-74.325142</td>\n",
       "      <td>2019</td>\n",
       "      <td>4</td>\n",
       "    </tr>\n",
       "    <tr>\n",
       "      <th>3</th>\n",
       "      <td>19</td>\n",
       "      <td>077-66-9719</td>\n",
       "      <td>6569371776571759</td>\n",
       "      <td>Judith</td>\n",
       "      <td>Long</td>\n",
       "      <td>F</td>\n",
       "      <td>501 Bullock Port Suite 284</td>\n",
       "      <td>Port Washington</td>\n",
       "      <td>NY</td>\n",
       "      <td>11050</td>\n",
       "      <td>...</td>\n",
       "      <td>01:05:28</td>\n",
       "      <td>1577302528</td>\n",
       "      <td>gas_transport</td>\n",
       "      <td>277.84</td>\n",
       "      <td>1</td>\n",
       "      <td>fraud_Torp-Labadie</td>\n",
       "      <td>40.328734</td>\n",
       "      <td>-72.938980</td>\n",
       "      <td>2019</td>\n",
       "      <td>4</td>\n",
       "    </tr>\n",
       "    <tr>\n",
       "      <th>4</th>\n",
       "      <td>20</td>\n",
       "      <td>077-66-9719</td>\n",
       "      <td>6569371776571759</td>\n",
       "      <td>Judith</td>\n",
       "      <td>Long</td>\n",
       "      <td>F</td>\n",
       "      <td>501 Bullock Port Suite 284</td>\n",
       "      <td>Port Washington</td>\n",
       "      <td>NY</td>\n",
       "      <td>11050</td>\n",
       "      <td>...</td>\n",
       "      <td>09:47:00</td>\n",
       "      <td>1577333820</td>\n",
       "      <td>gas_transport</td>\n",
       "      <td>299.67</td>\n",
       "      <td>1</td>\n",
       "      <td>fraud_Emard Inc</td>\n",
       "      <td>41.670631</td>\n",
       "      <td>-74.218224</td>\n",
       "      <td>2019</td>\n",
       "      <td>4</td>\n",
       "    </tr>\n",
       "    <tr>\n",
       "      <th>...</th>\n",
       "      <td>...</td>\n",
       "      <td>...</td>\n",
       "      <td>...</td>\n",
       "      <td>...</td>\n",
       "      <td>...</td>\n",
       "      <td>...</td>\n",
       "      <td>...</td>\n",
       "      <td>...</td>\n",
       "      <td>...</td>\n",
       "      <td>...</td>\n",
       "      <td>...</td>\n",
       "      <td>...</td>\n",
       "      <td>...</td>\n",
       "      <td>...</td>\n",
       "      <td>...</td>\n",
       "      <td>...</td>\n",
       "      <td>...</td>\n",
       "      <td>...</td>\n",
       "      <td>...</td>\n",
       "      <td>...</td>\n",
       "      <td>...</td>\n",
       "    </tr>\n",
       "    <tr>\n",
       "      <th>10478183</th>\n",
       "      <td>34636332</td>\n",
       "      <td>198-77-7126</td>\n",
       "      <td>6011074559874044</td>\n",
       "      <td>Kevin</td>\n",
       "      <td>Dunn</td>\n",
       "      <td>M</td>\n",
       "      <td>21431 Daniel Canyon</td>\n",
       "      <td>Chesapeake</td>\n",
       "      <td>VA</td>\n",
       "      <td>23320</td>\n",
       "      <td>...</td>\n",
       "      <td>19:28:21</td>\n",
       "      <td>1608040701</td>\n",
       "      <td>travel</td>\n",
       "      <td>3.83</td>\n",
       "      <td>0</td>\n",
       "      <td>fraud_Lynch-Mohr</td>\n",
       "      <td>35.893517</td>\n",
       "      <td>-77.055651</td>\n",
       "      <td>2020</td>\n",
       "      <td>4</td>\n",
       "    </tr>\n",
       "    <tr>\n",
       "      <th>10478184</th>\n",
       "      <td>34636336</td>\n",
       "      <td>198-77-7126</td>\n",
       "      <td>6011074559874044</td>\n",
       "      <td>Kevin</td>\n",
       "      <td>Dunn</td>\n",
       "      <td>M</td>\n",
       "      <td>21431 Daniel Canyon</td>\n",
       "      <td>Chesapeake</td>\n",
       "      <td>VA</td>\n",
       "      <td>23320</td>\n",
       "      <td>...</td>\n",
       "      <td>17:00:31</td>\n",
       "      <td>1608982231</td>\n",
       "      <td>travel</td>\n",
       "      <td>8.69</td>\n",
       "      <td>0</td>\n",
       "      <td>fraud_Ebert-Daugherty</td>\n",
       "      <td>35.750875</td>\n",
       "      <td>-75.477016</td>\n",
       "      <td>2020</td>\n",
       "      <td>4</td>\n",
       "    </tr>\n",
       "    <tr>\n",
       "      <th>10478185</th>\n",
       "      <td>34636339</td>\n",
       "      <td>198-77-7126</td>\n",
       "      <td>6011074559874044</td>\n",
       "      <td>Kevin</td>\n",
       "      <td>Dunn</td>\n",
       "      <td>M</td>\n",
       "      <td>21431 Daniel Canyon</td>\n",
       "      <td>Chesapeake</td>\n",
       "      <td>VA</td>\n",
       "      <td>23320</td>\n",
       "      <td>...</td>\n",
       "      <td>20:44:07</td>\n",
       "      <td>1608995647</td>\n",
       "      <td>travel</td>\n",
       "      <td>1.59</td>\n",
       "      <td>0</td>\n",
       "      <td>fraud_Monahan, Hermann and Johns</td>\n",
       "      <td>37.143014</td>\n",
       "      <td>-76.603130</td>\n",
       "      <td>2020</td>\n",
       "      <td>4</td>\n",
       "    </tr>\n",
       "    <tr>\n",
       "      <th>10478186</th>\n",
       "      <td>34636341</td>\n",
       "      <td>198-77-7126</td>\n",
       "      <td>6011074559874044</td>\n",
       "      <td>Kevin</td>\n",
       "      <td>Dunn</td>\n",
       "      <td>M</td>\n",
       "      <td>21431 Daniel Canyon</td>\n",
       "      <td>Chesapeake</td>\n",
       "      <td>VA</td>\n",
       "      <td>23320</td>\n",
       "      <td>...</td>\n",
       "      <td>12:58:00</td>\n",
       "      <td>1605684480</td>\n",
       "      <td>personal_care</td>\n",
       "      <td>7.34</td>\n",
       "      <td>0</td>\n",
       "      <td>fraud_Baumbach Ltd</td>\n",
       "      <td>37.227638</td>\n",
       "      <td>-75.954500</td>\n",
       "      <td>2020</td>\n",
       "      <td>4</td>\n",
       "    </tr>\n",
       "    <tr>\n",
       "      <th>10478187</th>\n",
       "      <td>34636345</td>\n",
       "      <td>198-77-7126</td>\n",
       "      <td>6011074559874044</td>\n",
       "      <td>Kevin</td>\n",
       "      <td>Dunn</td>\n",
       "      <td>M</td>\n",
       "      <td>21431 Daniel Canyon</td>\n",
       "      <td>Chesapeake</td>\n",
       "      <td>VA</td>\n",
       "      <td>23320</td>\n",
       "      <td>...</td>\n",
       "      <td>23:06:12</td>\n",
       "      <td>1607016972</td>\n",
       "      <td>personal_care</td>\n",
       "      <td>2.12</td>\n",
       "      <td>0</td>\n",
       "      <td>fraud_Roberts, Ryan and Smith</td>\n",
       "      <td>37.115645</td>\n",
       "      <td>-76.959681</td>\n",
       "      <td>2020</td>\n",
       "      <td>4</td>\n",
       "    </tr>\n",
       "  </tbody>\n",
       "</table>\n",
       "<p>10478188 rows × 29 columns</p>\n",
       "</div>"
      ],
      "text/plain": [
       "          Unnamed: 0          ssn            cc_num   first  last gender  \\\n",
       "0                 16  077-66-9719  6569371776571759  Judith  Long      F   \n",
       "1                 17  077-66-9719  6569371776571759  Judith  Long      F   \n",
       "2                 18  077-66-9719  6569371776571759  Judith  Long      F   \n",
       "3                 19  077-66-9719  6569371776571759  Judith  Long      F   \n",
       "4                 20  077-66-9719  6569371776571759  Judith  Long      F   \n",
       "...              ...          ...               ...     ...   ...    ...   \n",
       "10478183    34636332  198-77-7126  6011074559874044   Kevin  Dunn      M   \n",
       "10478184    34636336  198-77-7126  6011074559874044   Kevin  Dunn      M   \n",
       "10478185    34636339  198-77-7126  6011074559874044   Kevin  Dunn      M   \n",
       "10478186    34636341  198-77-7126  6011074559874044   Kevin  Dunn      M   \n",
       "10478187    34636345  198-77-7126  6011074559874044   Kevin  Dunn      M   \n",
       "\n",
       "                              street             city state    zip  ...  \\\n",
       "0         501 Bullock Port Suite 284  Port Washington    NY  11050  ...   \n",
       "1         501 Bullock Port Suite 284  Port Washington    NY  11050  ...   \n",
       "2         501 Bullock Port Suite 284  Port Washington    NY  11050  ...   \n",
       "3         501 Bullock Port Suite 284  Port Washington    NY  11050  ...   \n",
       "4         501 Bullock Port Suite 284  Port Washington    NY  11050  ...   \n",
       "...                              ...              ...   ...    ...  ...   \n",
       "10478183         21431 Daniel Canyon       Chesapeake    VA  23320  ...   \n",
       "10478184         21431 Daniel Canyon       Chesapeake    VA  23320  ...   \n",
       "10478185         21431 Daniel Canyon       Chesapeake    VA  23320  ...   \n",
       "10478186         21431 Daniel Canyon       Chesapeake    VA  23320  ...   \n",
       "10478187         21431 Daniel Canyon       Chesapeake    VA  23320  ...   \n",
       "\n",
       "          trans_time   unix_time       category     amt is_fraud  \\\n",
       "0           01:08:05  1577302685    grocery_pos   12.78        1   \n",
       "1           01:33:53  1577304233    grocery_pos   13.74        1   \n",
       "2           03:26:31  1577310991    grocery_pos    9.41        1   \n",
       "3           01:05:28  1577302528  gas_transport  277.84        1   \n",
       "4           09:47:00  1577333820  gas_transport  299.67        1   \n",
       "...              ...         ...            ...     ...      ...   \n",
       "10478183    19:28:21  1608040701         travel    3.83        0   \n",
       "10478184    17:00:31  1608982231         travel    8.69        0   \n",
       "10478185    20:44:07  1608995647         travel    1.59        0   \n",
       "10478186    12:58:00  1605684480  personal_care    7.34        0   \n",
       "10478187    23:06:12  1607016972  personal_care    2.12        0   \n",
       "\n",
       "                                   merchant  merch_lat merch_long  year  \\\n",
       "0                        fraud_Bauch-Raynor  41.622025 -74.287152  2019   \n",
       "1                            fraud_Wolf Inc  40.405458 -74.299585  2019   \n",
       "2         fraud_Schultz, Simonis and Little  40.050169 -74.325142  2019   \n",
       "3                        fraud_Torp-Labadie  40.328734 -72.938980  2019   \n",
       "4                           fraud_Emard Inc  41.670631 -74.218224  2019   \n",
       "...                                     ...        ...        ...   ...   \n",
       "10478183                   fraud_Lynch-Mohr  35.893517 -77.055651  2020   \n",
       "10478184              fraud_Ebert-Daugherty  35.750875 -75.477016  2020   \n",
       "10478185   fraud_Monahan, Hermann and Johns  37.143014 -76.603130  2020   \n",
       "10478186                 fraud_Baumbach Ltd  37.227638 -75.954500  2020   \n",
       "10478187      fraud_Roberts, Ryan and Smith  37.115645 -76.959681  2020   \n",
       "\n",
       "         quarter  \n",
       "0              4  \n",
       "1              4  \n",
       "2              4  \n",
       "3              4  \n",
       "4              4  \n",
       "...          ...  \n",
       "10478183       4  \n",
       "10478184       4  \n",
       "10478185       4  \n",
       "10478186       4  \n",
       "10478187       4  \n",
       "\n",
       "[10478188 rows x 29 columns]"
      ]
     },
     "execution_count": 368,
     "metadata": {},
     "output_type": "execute_result"
    }
   ],
   "source": [
    "# Merge the dataframes on common columns without duplicating columns\n",
    "merged_df= pd.merge(df1, df2, on=['ssn', 'cc_num', 'first', 'last', 'gender', 'street', 'city', 'state',\n",
    "       'zip', 'lat', 'long', 'city_pop', 'job', 'dob', 'acct_num', 'profile'], how='inner')\n",
    "\n",
    "# # Save the merged dataframe to a new CSV file\n",
    "# merged_df.to_csv('merged_fraud_detection.csv', index=False)\n",
    "\n",
    "# Display the first few rows of the merged dataframe\n",
    "merged_df"
   ]
  },
  {
   "cell_type": "code",
   "execution_count": 369,
   "id": "d85126f6",
   "metadata": {},
   "outputs": [
    {
     "data": {
      "text/plain": [
       "Index(['Unnamed: 0', 'ssn', 'cc_num', 'first', 'last', 'gender', 'street',\n",
       "       'city', 'state', 'zip', 'lat', 'long', 'city_pop', 'job', 'dob',\n",
       "       'acct_num', 'profile', 'trans_num', 'trans_date', 'trans_time',\n",
       "       'unix_time', 'category', 'amt', 'is_fraud', 'merchant', 'merch_lat',\n",
       "       'merch_long', 'year', 'quarter'],\n",
       "      dtype='object')"
      ]
     },
     "execution_count": 369,
     "metadata": {},
     "output_type": "execute_result"
    }
   ],
   "source": [
    "merged_df.columns"
   ]
  },
  {
   "cell_type": "code",
   "execution_count": 370,
   "id": "f26ec032",
   "metadata": {},
   "outputs": [
    {
     "data": {
      "text/html": [
       "<div>\n",
       "<style scoped>\n",
       "    .dataframe tbody tr th:only-of-type {\n",
       "        vertical-align: middle;\n",
       "    }\n",
       "\n",
       "    .dataframe tbody tr th {\n",
       "        vertical-align: top;\n",
       "    }\n",
       "\n",
       "    .dataframe thead th {\n",
       "        text-align: right;\n",
       "    }\n",
       "</style>\n",
       "<table border=\"1\" class=\"dataframe\">\n",
       "  <thead>\n",
       "    <tr style=\"text-align: right;\">\n",
       "      <th></th>\n",
       "      <th>Unnamed: 0</th>\n",
       "      <th>cc_num</th>\n",
       "      <th>zip</th>\n",
       "      <th>lat</th>\n",
       "      <th>long</th>\n",
       "      <th>city_pop</th>\n",
       "      <th>acct_num</th>\n",
       "      <th>unix_time</th>\n",
       "      <th>amt</th>\n",
       "      <th>is_fraud</th>\n",
       "      <th>merch_lat</th>\n",
       "      <th>merch_long</th>\n",
       "      <th>year</th>\n",
       "      <th>quarter</th>\n",
       "    </tr>\n",
       "  </thead>\n",
       "  <tbody>\n",
       "    <tr>\n",
       "      <th>count</th>\n",
       "      <td>1.047819e+07</td>\n",
       "      <td>1.047819e+07</td>\n",
       "      <td>1.047819e+07</td>\n",
       "      <td>1.047819e+07</td>\n",
       "      <td>1.047819e+07</td>\n",
       "      <td>1.047819e+07</td>\n",
       "      <td>1.047819e+07</td>\n",
       "      <td>1.047819e+07</td>\n",
       "      <td>1.047819e+07</td>\n",
       "      <td>1.047819e+07</td>\n",
       "      <td>1.047819e+07</td>\n",
       "      <td>1.047819e+07</td>\n",
       "      <td>1.047819e+07</td>\n",
       "      <td>10478188.0</td>\n",
       "    </tr>\n",
       "    <tr>\n",
       "      <th>mean</th>\n",
       "      <td>1.731938e+07</td>\n",
       "      <td>3.702906e+17</td>\n",
       "      <td>5.108769e+04</td>\n",
       "      <td>3.757636e+01</td>\n",
       "      <td>-9.193568e+01</td>\n",
       "      <td>2.964466e+05</td>\n",
       "      <td>4.975395e+11</td>\n",
       "      <td>1.590247e+09</td>\n",
       "      <td>6.646663e+01</td>\n",
       "      <td>4.383869e-03</td>\n",
       "      <td>3.757624e+01</td>\n",
       "      <td>-9.193554e+01</td>\n",
       "      <td>2.019498e+03</td>\n",
       "      <td>4.0</td>\n",
       "    </tr>\n",
       "    <tr>\n",
       "      <th>std</th>\n",
       "      <td>9.998740e+06</td>\n",
       "      <td>1.235095e+18</td>\n",
       "      <td>2.968729e+04</td>\n",
       "      <td>5.186278e+00</td>\n",
       "      <td>1.646782e+01</td>\n",
       "      <td>5.700189e+05</td>\n",
       "      <td>2.890842e+11</td>\n",
       "      <td>1.596677e+07</td>\n",
       "      <td>1.830386e+02</td>\n",
       "      <td>6.606550e-02</td>\n",
       "      <td>5.218047e+00</td>\n",
       "      <td>1.647770e+01</td>\n",
       "      <td>4.999949e-01</td>\n",
       "      <td>0.0</td>\n",
       "    </tr>\n",
       "    <tr>\n",
       "      <th>min</th>\n",
       "      <td>1.600000e+01</td>\n",
       "      <td>6.040003e+10</td>\n",
       "      <td>1.002000e+03</td>\n",
       "      <td>1.958930e+01</td>\n",
       "      <td>-1.631189e+02</td>\n",
       "      <td>4.400000e+01</td>\n",
       "      <td>1.837412e+07</td>\n",
       "      <td>1.569868e+09</td>\n",
       "      <td>1.000000e+00</td>\n",
       "      <td>0.000000e+00</td>\n",
       "      <td>1.858999e+01</td>\n",
       "      <td>-1.641144e+02</td>\n",
       "      <td>2.019000e+03</td>\n",
       "      <td>4.0</td>\n",
       "    </tr>\n",
       "    <tr>\n",
       "      <th>25%</th>\n",
       "      <td>8.659768e+06</td>\n",
       "      <td>3.848028e+13</td>\n",
       "      <td>2.758700e+04</td>\n",
       "      <td>3.389940e+01</td>\n",
       "      <td>-9.854400e+01</td>\n",
       "      <td>1.781300e+04</td>\n",
       "      <td>2.462743e+11</td>\n",
       "      <td>1.575119e+09</td>\n",
       "      <td>7.900000e+00</td>\n",
       "      <td>0.000000e+00</td>\n",
       "      <td>3.386532e+01</td>\n",
       "      <td>-9.879683e+01</td>\n",
       "      <td>2.019000e+03</td>\n",
       "      <td>4.0</td>\n",
       "    </tr>\n",
       "    <tr>\n",
       "      <th>50%</th>\n",
       "      <td>1.732219e+07</td>\n",
       "      <td>3.505886e+15</td>\n",
       "      <td>4.809700e+04</td>\n",
       "      <td>3.858780e+01</td>\n",
       "      <td>-8.703800e+01</td>\n",
       "      <td>6.106000e+04</td>\n",
       "      <td>4.963046e+11</td>\n",
       "      <td>1.577793e+09</td>\n",
       "      <td>3.349000e+01</td>\n",
       "      <td>0.000000e+00</td>\n",
       "      <td>3.845401e+01</td>\n",
       "      <td>-8.697753e+01</td>\n",
       "      <td>2.019000e+03</td>\n",
       "      <td>4.0</td>\n",
       "    </tr>\n",
       "    <tr>\n",
       "      <th>75%</th>\n",
       "      <td>2.597678e+07</td>\n",
       "      <td>4.588532e+15</td>\n",
       "      <td>7.824700e+04</td>\n",
       "      <td>4.123380e+01</td>\n",
       "      <td>-7.995370e+01</td>\n",
       "      <td>2.368230e+05</td>\n",
       "      <td>7.499406e+11</td>\n",
       "      <td>1.606726e+09</td>\n",
       "      <td>7.799000e+01</td>\n",
       "      <td>0.000000e+00</td>\n",
       "      <td>4.130718e+01</td>\n",
       "      <td>-7.971002e+01</td>\n",
       "      <td>2.020000e+03</td>\n",
       "      <td>4.0</td>\n",
       "    </tr>\n",
       "    <tr>\n",
       "      <th>max</th>\n",
       "      <td>3.463634e+07</td>\n",
       "      <td>4.999689e+18</td>\n",
       "      <td>9.992900e+04</td>\n",
       "      <td>6.669330e+01</td>\n",
       "      <td>-6.740730e+01</td>\n",
       "      <td>2.906700e+06</td>\n",
       "      <td>9.999583e+11</td>\n",
       "      <td>1.609439e+09</td>\n",
       "      <td>4.167949e+04</td>\n",
       "      <td>1.000000e+00</td>\n",
       "      <td>6.769078e+01</td>\n",
       "      <td>-6.640901e+01</td>\n",
       "      <td>2.020000e+03</td>\n",
       "      <td>4.0</td>\n",
       "    </tr>\n",
       "  </tbody>\n",
       "</table>\n",
       "</div>"
      ],
      "text/plain": [
       "         Unnamed: 0        cc_num           zip           lat          long  \\\n",
       "count  1.047819e+07  1.047819e+07  1.047819e+07  1.047819e+07  1.047819e+07   \n",
       "mean   1.731938e+07  3.702906e+17  5.108769e+04  3.757636e+01 -9.193568e+01   \n",
       "std    9.998740e+06  1.235095e+18  2.968729e+04  5.186278e+00  1.646782e+01   \n",
       "min    1.600000e+01  6.040003e+10  1.002000e+03  1.958930e+01 -1.631189e+02   \n",
       "25%    8.659768e+06  3.848028e+13  2.758700e+04  3.389940e+01 -9.854400e+01   \n",
       "50%    1.732219e+07  3.505886e+15  4.809700e+04  3.858780e+01 -8.703800e+01   \n",
       "75%    2.597678e+07  4.588532e+15  7.824700e+04  4.123380e+01 -7.995370e+01   \n",
       "max    3.463634e+07  4.999689e+18  9.992900e+04  6.669330e+01 -6.740730e+01   \n",
       "\n",
       "           city_pop      acct_num     unix_time           amt      is_fraud  \\\n",
       "count  1.047819e+07  1.047819e+07  1.047819e+07  1.047819e+07  1.047819e+07   \n",
       "mean   2.964466e+05  4.975395e+11  1.590247e+09  6.646663e+01  4.383869e-03   \n",
       "std    5.700189e+05  2.890842e+11  1.596677e+07  1.830386e+02  6.606550e-02   \n",
       "min    4.400000e+01  1.837412e+07  1.569868e+09  1.000000e+00  0.000000e+00   \n",
       "25%    1.781300e+04  2.462743e+11  1.575119e+09  7.900000e+00  0.000000e+00   \n",
       "50%    6.106000e+04  4.963046e+11  1.577793e+09  3.349000e+01  0.000000e+00   \n",
       "75%    2.368230e+05  7.499406e+11  1.606726e+09  7.799000e+01  0.000000e+00   \n",
       "max    2.906700e+06  9.999583e+11  1.609439e+09  4.167949e+04  1.000000e+00   \n",
       "\n",
       "          merch_lat    merch_long          year     quarter  \n",
       "count  1.047819e+07  1.047819e+07  1.047819e+07  10478188.0  \n",
       "mean   3.757624e+01 -9.193554e+01  2.019498e+03         4.0  \n",
       "std    5.218047e+00  1.647770e+01  4.999949e-01         0.0  \n",
       "min    1.858999e+01 -1.641144e+02  2.019000e+03         4.0  \n",
       "25%    3.386532e+01 -9.879683e+01  2.019000e+03         4.0  \n",
       "50%    3.845401e+01 -8.697753e+01  2.019000e+03         4.0  \n",
       "75%    4.130718e+01 -7.971002e+01  2.020000e+03         4.0  \n",
       "max    6.769078e+01 -6.640901e+01  2.020000e+03         4.0  "
      ]
     },
     "execution_count": 370,
     "metadata": {},
     "output_type": "execute_result"
    }
   ],
   "source": [
    "merged_df.describe()"
   ]
  },
  {
   "cell_type": "markdown",
   "id": "190ce529",
   "metadata": {},
   "source": [
    "# Convert an objects into viable data \n",
    "(string, int, float....)"
   ]
  },
  {
   "cell_type": "code",
   "execution_count": 387,
   "id": "70f90d11",
   "metadata": {},
   "outputs": [],
   "source": [
    "df=merged_df.copy()"
   ]
  },
  {
   "cell_type": "code",
   "execution_count": 388,
   "id": "80f6b325",
   "metadata": {},
   "outputs": [
    {
     "name": "stdout",
     "output_type": "stream",
     "text": [
      "<class 'pandas.core.frame.DataFrame'>\n",
      "RangeIndex: 10478188 entries, 0 to 10478187\n",
      "Data columns (total 29 columns):\n",
      " #   Column      Dtype  \n",
      "---  ------      -----  \n",
      " 0   Unnamed: 0  int64  \n",
      " 1   ssn         object \n",
      " 2   cc_num      int64  \n",
      " 3   first       object \n",
      " 4   last        object \n",
      " 5   gender      object \n",
      " 6   street      object \n",
      " 7   city        object \n",
      " 8   state       object \n",
      " 9   zip         int64  \n",
      " 10  lat         float64\n",
      " 11  long        float64\n",
      " 12  city_pop    int64  \n",
      " 13  job         object \n",
      " 14  dob         object \n",
      " 15  acct_num    int64  \n",
      " 16  profile     object \n",
      " 17  trans_num   object \n",
      " 18  trans_date  object \n",
      " 19  trans_time  object \n",
      " 20  unix_time   int64  \n",
      " 21  category    object \n",
      " 22  amt         float64\n",
      " 23  is_fraud    int64  \n",
      " 24  merchant    object \n",
      " 25  merch_lat   float64\n",
      " 26  merch_long  float64\n",
      " 27  year        int64  \n",
      " 28  quarter     int64  \n",
      "dtypes: float64(5), int64(9), object(15)\n",
      "memory usage: 2.3+ GB\n"
     ]
    }
   ],
   "source": [
    "df.info()"
   ]
  },
  {
   "cell_type": "code",
   "execution_count": 389,
   "id": "01c8e0fe",
   "metadata": {},
   "outputs": [
    {
     "data": {
      "text/plain": [
       "Unnamed: 0\n",
       "16          1\n",
       "23090678    1\n",
       "23090649    1\n",
       "23090652    1\n",
       "23090654    1\n",
       "           ..\n",
       "11550113    1\n",
       "11550119    1\n",
       "11550125    1\n",
       "11550126    1\n",
       "34636345    1\n",
       "Name: count, Length: 10478188, dtype: int64"
      ]
     },
     "execution_count": 389,
     "metadata": {},
     "output_type": "execute_result"
    }
   ],
   "source": [
    "df['Unnamed: 0'].value_counts()"
   ]
  },
  {
   "cell_type": "code",
   "execution_count": 390,
   "id": "6cf8b9cf",
   "metadata": {},
   "outputs": [],
   "source": [
    "df = df.drop(\"Unnamed: 0\", axis=1)"
   ]
  },
  {
   "cell_type": "code",
   "execution_count": 391,
   "id": "2305552e",
   "metadata": {},
   "outputs": [],
   "source": [
    "df['ssn']=df['ssn'].astype('string')"
   ]
  },
  {
   "cell_type": "code",
   "execution_count": 392,
   "id": "b6e3eb9e",
   "metadata": {},
   "outputs": [],
   "source": [
    "df['ssn']=df['ssn'].str.replace('-',' ')"
   ]
  },
  {
   "cell_type": "code",
   "execution_count": 393,
   "id": "4d56eeaa",
   "metadata": {},
   "outputs": [],
   "source": [
    "# df['gender']=df['gender'].astype('string')"
   ]
  },
  {
   "cell_type": "code",
   "execution_count": 394,
   "id": "3d348e79",
   "metadata": {},
   "outputs": [],
   "source": [
    "df['street']=df['street'].astype('string')\n",
    "df['street']=df['street'].str.replace('.','')"
   ]
  },
  {
   "cell_type": "code",
   "execution_count": 395,
   "id": "76cb8a75",
   "metadata": {},
   "outputs": [],
   "source": [
    "df['job']=df['job'].astype('string')\n",
    "df['job']=df['job'].str.replace('(','')\n",
    "df['job']=df['job'].str.replace(')','')"
   ]
  },
  {
   "cell_type": "code",
   "execution_count": 396,
   "id": "10039ceb",
   "metadata": {},
   "outputs": [],
   "source": [
    "df['job']=df['job'].str.replace(',',' ')"
   ]
  },
  {
   "cell_type": "code",
   "execution_count": 397,
   "id": "74f68167",
   "metadata": {},
   "outputs": [],
   "source": [
    "df['profile']=df['profile'].str.replace('_',' ')"
   ]
  },
  {
   "cell_type": "markdown",
   "id": "d1292bcc",
   "metadata": {},
   "source": [
    "# Covert columns"
   ]
  },
  {
   "cell_type": "code",
   "execution_count": 398,
   "id": "d6310223",
   "metadata": {},
   "outputs": [],
   "source": [
    "#!pip install string\n",
    "import string"
   ]
  },
  {
   "cell_type": "code",
   "execution_count": 399,
   "id": "a5cd75a9",
   "metadata": {},
   "outputs": [
    {
     "name": "stdout",
     "output_type": "stream",
     "text": [
      "Index(['first', 'last', 'gender', 'city', 'state', 'dob', 'profile',\n",
      "       'trans_num', 'trans_date', 'trans_time', 'category', 'merchant'],\n",
      "      dtype='object')\n"
     ]
    }
   ],
   "source": [
    "# 'Object' Columns to convert to string\n",
    "columns_to_convert = df.select_dtypes(include=['object']).columns\n",
    "print(columns_to_convert)\n",
    "\n",
    "# Convert specified columns to string type and create string_df\n",
    "string_df = df[columns_to_convert].astype('category')\n",
    "\n",
    "# # Convert specified columns to string type and create string_df\n",
    "# string_df = df[columns_to_convert].astype('string')\n",
    "\n",
    "# Assign the cleaned columns back to the original DataFrame\n",
    "df[columns_to_convert] = string_df"
   ]
  },
  {
   "cell_type": "code",
   "execution_count": 400,
   "id": "f40701fa",
   "metadata": {},
   "outputs": [
    {
     "name": "stdout",
     "output_type": "stream",
     "text": [
      "<class 'pandas.core.frame.DataFrame'>\n",
      "RangeIndex: 10478188 entries, 0 to 10478187\n",
      "Data columns (total 28 columns):\n",
      " #   Column      Dtype   \n",
      "---  ------      -----   \n",
      " 0   ssn         string  \n",
      " 1   cc_num      int64   \n",
      " 2   first       category\n",
      " 3   last        category\n",
      " 4   gender      category\n",
      " 5   street      string  \n",
      " 6   city        category\n",
      " 7   state       category\n",
      " 8   zip         int64   \n",
      " 9   lat         float64 \n",
      " 10  long        float64 \n",
      " 11  city_pop    int64   \n",
      " 12  job         string  \n",
      " 13  dob         category\n",
      " 14  acct_num    int64   \n",
      " 15  profile     category\n",
      " 16  trans_num   category\n",
      " 17  trans_date  category\n",
      " 18  trans_time  category\n",
      " 19  unix_time   int64   \n",
      " 20  category    category\n",
      " 21  amt         float64 \n",
      " 22  is_fraud    int64   \n",
      " 23  merchant    category\n",
      " 24  merch_lat   float64 \n",
      " 25  merch_long  float64 \n",
      " 26  year        int64   \n",
      " 27  quarter     int64   \n",
      "dtypes: category(12), float64(5), int64(8), string(3)\n",
      "memory usage: 1.8 GB\n"
     ]
    }
   ],
   "source": [
    "df.info()"
   ]
  },
  {
   "cell_type": "markdown",
   "id": "0d890e5e",
   "metadata": {},
   "source": [
    "Changing values"
   ]
  },
  {
   "cell_type": "code",
   "execution_count": 401,
   "id": "200da6d1",
   "metadata": {},
   "outputs": [
    {
     "data": {
      "text/plain": [
       "gender\n",
       "F    5423417\n",
       "M    5054771\n",
       "Name: count, dtype: int64"
      ]
     },
     "execution_count": 401,
     "metadata": {},
     "output_type": "execute_result"
    }
   ],
   "source": [
    "df['gender'].value_counts()"
   ]
  },
  {
   "cell_type": "code",
   "execution_count": 402,
   "id": "3a6cccd9",
   "metadata": {},
   "outputs": [],
   "source": [
    "# We can replace df['gender'] values to avoid risk of changing the values in other columns\n",
    "df=df.replace(to_replace=\"F\", value=\"0\") \n",
    "df=df.replace(to_replace=\"M\", value=\"1\")"
   ]
  },
  {
   "cell_type": "code",
   "execution_count": 403,
   "id": "e6e62132",
   "metadata": {},
   "outputs": [
    {
     "data": {
      "text/plain": [
       "gender\n",
       "0    5423417\n",
       "1    5054771\n",
       "Name: count, dtype: int64"
      ]
     },
     "execution_count": 403,
     "metadata": {},
     "output_type": "execute_result"
    }
   ],
   "source": [
    "df['gender'].value_counts()"
   ]
  },
  {
   "cell_type": "code",
   "execution_count": 404,
   "id": "00a7644b",
   "metadata": {},
   "outputs": [
    {
     "name": "stdout",
     "output_type": "stream",
     "text": [
      "<class 'pandas.core.frame.DataFrame'>\n",
      "RangeIndex: 10478188 entries, 0 to 10478187\n",
      "Data columns (total 28 columns):\n",
      " #   Column      Dtype   \n",
      "---  ------      -----   \n",
      " 0   ssn         string  \n",
      " 1   cc_num      int64   \n",
      " 2   first       category\n",
      " 3   last        category\n",
      " 4   gender      category\n",
      " 5   street      string  \n",
      " 6   city        category\n",
      " 7   state       category\n",
      " 8   zip         int64   \n",
      " 9   lat         float64 \n",
      " 10  long        float64 \n",
      " 11  city_pop    int64   \n",
      " 12  job         string  \n",
      " 13  dob         category\n",
      " 14  acct_num    int64   \n",
      " 15  profile     category\n",
      " 16  trans_num   category\n",
      " 17  trans_date  category\n",
      " 18  trans_time  category\n",
      " 19  unix_time   int64   \n",
      " 20  category    category\n",
      " 21  amt         float64 \n",
      " 22  is_fraud    int64   \n",
      " 23  merchant    category\n",
      " 24  merch_lat   float64 \n",
      " 25  merch_long  float64 \n",
      " 26  year        int64   \n",
      " 27  quarter     int64   \n",
      "dtypes: category(12), float64(5), int64(8), string(3)\n",
      "memory usage: 1.8 GB\n"
     ]
    }
   ],
   "source": [
    "df.info()"
   ]
  },
  {
   "cell_type": "markdown",
   "id": "3a2ed334",
   "metadata": {},
   "source": [
    "# Pickle file\n",
    "A pickle file in Python is used to serialize and deserialize Python objects.\n",
    "Serialization (write binary) is the process of converting a Python object into a byte stream, which can then be written to a file or transmitted over a network.\n",
    "Deserialization (read binary) is the reverse process, converting the byte stream back into a Python object."
   ]
  },
  {
   "cell_type": "code",
   "execution_count": 405,
   "id": "a61f88c1",
   "metadata": {},
   "outputs": [],
   "source": [
    "df.to_pickle('mrg_df_after_data_prep_3.1.25.pkl')\n",
    "df=pd.read_pickle('mrg_df_after_data_prep_3.1.25.pkl')"
   ]
  },
  {
   "cell_type": "code",
   "execution_count": 406,
   "id": "af77a7b5",
   "metadata": {},
   "outputs": [
    {
     "name": "stdout",
     "output_type": "stream",
     "text": [
      "df_3.1.25 dataset saved as a pickle file.\n"
     ]
    }
   ],
   "source": [
    "import pickle\n",
    "\n",
    "#Write a pickle file\n",
    "with open('df_3.1.25.pkl', 'wb') as f:\n",
    "    pickle.dump(df, f)\n",
    "\n",
    "print(\"df_3.1.25 dataset saved as a pickle file.\")"
   ]
  },
  {
   "cell_type": "code",
   "execution_count": 407,
   "id": "2ff656b3",
   "metadata": {},
   "outputs": [],
   "source": [
    "import pickle\n",
    "\n",
    "#Read a pickle file and load the data\n",
    "with open('df_3.1.25.pkl', 'rb') as file:\n",
    "    loaded_data = pickle.load(file)"
   ]
  },
  {
   "cell_type": "code",
   "execution_count": 408,
   "id": "16b7c03b",
   "metadata": {},
   "outputs": [],
   "source": [
    "# loaded_data"
   ]
  },
  {
   "cell_type": "markdown",
   "id": "9d2cf03f",
   "metadata": {},
   "source": [
    "# Clean Text"
   ]
  },
  {
   "cell_type": "code",
   "execution_count": 32,
   "id": "e50d6d17",
   "metadata": {},
   "outputs": [],
   "source": [
    "df = loaded_data.copy()"
   ]
  },
  {
   "cell_type": "code",
   "execution_count": 409,
   "id": "c49de893",
   "metadata": {},
   "outputs": [],
   "source": [
    "df.to_pickle('df_3.1.25_2.pkl')"
   ]
  },
  {
   "cell_type": "code",
   "execution_count": 410,
   "id": "03abcaf0",
   "metadata": {},
   "outputs": [],
   "source": [
    "df = pd.read_pickle('df_3.1.25_2.pkl')"
   ]
  },
  {
   "cell_type": "code",
   "execution_count": null,
   "id": "4d16aa89",
   "metadata": {},
   "outputs": [],
   "source": [
    "# # Convert specified columns to string type and create string_df\n",
    "# string_df = df[columns_to_convert].astype(str)\n",
    "\n",
    "# # Remove punctuation in one line\n",
    "# string_df = string_df.applymap(lambda x: x.translate(str.maketrans('', '', string.punctuation)))\n",
    "\n",
    "# # Assign the cleaned columns back to the original DataFrame\n",
    "# df[columns_to_convert] = string_df\n",
    "\n",
    "# # Display the resulting DataFrame\n",
    "# df"
   ]
  },
  {
   "cell_type": "code",
   "execution_count": 411,
   "id": "390cc33f",
   "metadata": {},
   "outputs": [],
   "source": [
    "df = df.drop([\"trans_num\",\"quarter\"], axis=1)"
   ]
  },
  {
   "cell_type": "code",
   "execution_count": 412,
   "id": "f72277b7",
   "metadata": {},
   "outputs": [
    {
     "name": "stdout",
     "output_type": "stream",
     "text": [
      "<class 'pandas.core.frame.DataFrame'>\n",
      "RangeIndex: 10478188 entries, 0 to 10478187\n",
      "Data columns (total 26 columns):\n",
      " #   Column      Dtype   \n",
      "---  ------      -----   \n",
      " 0   ssn         string  \n",
      " 1   cc_num      int64   \n",
      " 2   first       category\n",
      " 3   last        category\n",
      " 4   gender      category\n",
      " 5   street      string  \n",
      " 6   city        category\n",
      " 7   state       category\n",
      " 8   zip         int64   \n",
      " 9   lat         float64 \n",
      " 10  long        float64 \n",
      " 11  city_pop    int64   \n",
      " 12  job         string  \n",
      " 13  dob         category\n",
      " 14  acct_num    int64   \n",
      " 15  profile     category\n",
      " 16  trans_date  category\n",
      " 17  trans_time  category\n",
      " 18  unix_time   int64   \n",
      " 19  category    category\n",
      " 20  amt         float64 \n",
      " 21  is_fraud    int64   \n",
      " 22  merchant    category\n",
      " 23  merch_lat   float64 \n",
      " 24  merch_long  float64 \n",
      " 25  year        int64   \n",
      "dtypes: category(11), float64(5), int64(7), string(3)\n",
      "memory usage: 1.4 GB\n"
     ]
    }
   ],
   "source": [
    "df.info()"
   ]
  },
  {
   "cell_type": "code",
   "execution_count": 413,
   "id": "390b571c",
   "metadata": {},
   "outputs": [],
   "source": [
    "# We can replace df['year'] values to avoid risk of changing the values in other columns\n",
    "df['year'] = df['year'].replace({2019: 0, 2020: 1})"
   ]
  },
  {
   "cell_type": "code",
   "execution_count": 414,
   "id": "6a09d891",
   "metadata": {},
   "outputs": [
    {
     "data": {
      "text/plain": [
       "year\n",
       "0    5262827\n",
       "1    5215361\n",
       "Name: count, dtype: int64"
      ]
     },
     "execution_count": 414,
     "metadata": {},
     "output_type": "execute_result"
    }
   ],
   "source": [
    "df['year'].value_counts()"
   ]
  },
  {
   "cell_type": "code",
   "execution_count": 415,
   "id": "56d6dcc3",
   "metadata": {},
   "outputs": [],
   "source": [
    "df['ssn']=df['ssn'].str.replace('-',' ')"
   ]
  },
  {
   "cell_type": "code",
   "execution_count": 416,
   "id": "28107eb1",
   "metadata": {},
   "outputs": [],
   "source": [
    "df['dob']=df['ssn'].str.replace('-',' ')"
   ]
  },
  {
   "cell_type": "code",
   "execution_count": 417,
   "id": "8f48540b",
   "metadata": {},
   "outputs": [],
   "source": [
    "df['category']=df['category'].str.replace('_',' ')"
   ]
  },
  {
   "cell_type": "code",
   "execution_count": 43,
   "id": "f217124c",
   "metadata": {},
   "outputs": [],
   "source": [
    "df['merchant']=df['merchant'].str.replace('_',' ')\n",
    "df['merchant']=df['merchant'].str.replace(',',' ')"
   ]
  },
  {
   "cell_type": "markdown",
   "id": "f4654d5a",
   "metadata": {},
   "source": [
    "exploring features"
   ]
  },
  {
   "cell_type": "code",
   "execution_count": 418,
   "id": "95ba1739",
   "metadata": {},
   "outputs": [
    {
     "name": "stdout",
     "output_type": "stream",
     "text": [
      "ssn\n",
      "ssn\n",
      "863 40 9402    1421\n",
      "181 72 3161    1421\n",
      "601 28 2159    1420\n",
      "021 45 4377    1413\n",
      "483 53 0433    1404\n",
      "               ... \n",
      "539 35 0001       5\n",
      "564 15 1743       5\n",
      "680 94 2735       4\n",
      "104 11 6963       4\n",
      "235 48 4834       3\n",
      "Name: count, Length: 18063, dtype: Int64\n",
      "cc_num\n",
      "cc_num\n",
      "3511336354282257       1421\n",
      "4934061264665          1421\n",
      "4675154798156          1420\n",
      "4700649300310256       1413\n",
      "6011603074881389       1404\n",
      "                       ... \n",
      "4339718551383             5\n",
      "4463099297651905671       5\n",
      "6590438242352388          4\n",
      "4605956343180739203       4\n",
      "3567931054187377          3\n",
      "Name: count, Length: 18063, dtype: int64\n",
      "first\n",
      "first\n",
      "Michael        235602\n",
      "David          150442\n",
      "Jennifer       141902\n",
      "Robert         139557\n",
      "Christopher    139454\n",
      "                ...  \n",
      "Mathew            228\n",
      "Angie             218\n",
      "Karla             214\n",
      "Gilbert           211\n",
      "Mercedes          202\n",
      "Name: count, Length: 686, dtype: int64\n",
      "last\n",
      "last\n",
      "Smith        219562\n",
      "Johnson      165757\n",
      "Williams     145483\n",
      "Brown        135938\n",
      "Jones        125127\n",
      "              ...  \n",
      "Travis          469\n",
      "Mcpherson       456\n",
      "Arias           454\n",
      "Bray            453\n",
      "Cherry          439\n",
      "Name: count, Length: 1000, dtype: int64\n",
      "gender\n",
      "gender\n",
      "0    5423417\n",
      "1    5054771\n",
      "Name: count, dtype: int64\n",
      "street\n",
      "street\n",
      "40996 Mitchell Station Apt 804    1421\n",
      "66584 Eric Road Suite 886         1421\n",
      "22354 Stephanie Club Apt 971      1420\n",
      "2536 Cantrell Dale Suite 611      1413\n",
      "67627 Howard Lakes Apt 038        1404\n",
      "                                  ... \n",
      "3375 Martin Ranch                    5\n",
      "58281 Goodwin Brook                  5\n",
      "49572 Rachel Mews                    4\n",
      "5337 Olson Garden Apt 316            4\n",
      "04200 Bruce Ramp Suite 108           3\n",
      "Name: count, Length: 18063, dtype: Int64\n",
      "city\n",
      "city\n",
      "Houston        105978\n",
      "Chicago        102137\n",
      "Brooklyn        89168\n",
      "Los Angeles     79899\n",
      "Las Vegas       62646\n",
      "                ...  \n",
      "Rockport            7\n",
      "Carlyle             7\n",
      "Hubbard             7\n",
      "Ash                 7\n",
      "Tualatin            7\n",
      "Name: count, Length: 4966, dtype: int64\n",
      "state\n",
      "state\n",
      "CA    1219892\n",
      "TX     804642\n",
      "NY     664862\n",
      "FL     623530\n",
      "IL     481016\n",
      "PA     456854\n",
      "OH     378997\n",
      "GA     344809\n",
      "MI     334745\n",
      "NC     331156\n",
      "NJ     296754\n",
      "VA     288703\n",
      "AZ     242221\n",
      "WA     240543\n",
      "TN     218378\n",
      "IN     215853\n",
      "MA     208974\n",
      "MD     205833\n",
      "MO     191477\n",
      "MN     185156\n",
      "SC     184341\n",
      "WI     183809\n",
      "CO     156375\n",
      "KY     147156\n",
      "AL     146073\n",
      "LA     140832\n",
      "OR     124816\n",
      "CT     121243\n",
      "OK     120729\n",
      "NV     105019\n",
      "IA     104920\n",
      "AR     100531\n",
      "UT      95330\n",
      "MS      87227\n",
      "KS      83687\n",
      "NM      73022\n",
      "NE      62021\n",
      "WV      56906\n",
      "HI      51305\n",
      "NH      50362\n",
      "ME      49263\n",
      "ID      49083\n",
      "DE      37623\n",
      "VT      33201\n",
      "MT      32864\n",
      "RI      32298\n",
      "SD      31949\n",
      "AK      24064\n",
      "ND      23793\n",
      "DC      17646\n",
      "WY      16305\n",
      "Name: count, dtype: int64\n",
      "zip\n",
      "zip\n",
      "19047    7910\n",
      "92503    7146\n",
      "11230    6482\n",
      "93033    6219\n",
      "11385    6139\n",
      "         ... \n",
      "29617       7\n",
      "91606       7\n",
      "94561       7\n",
      "70501       7\n",
      "30345       7\n",
      "Name: count, Length: 9698, dtype: int64\n",
      "lat\n",
      "lat\n",
      "33.9208    12831\n",
      "40.1813     7910\n",
      "33.5085     6732\n",
      "38.2507     6582\n",
      "40.6225     6482\n",
      "           ...  \n",
      "39.7155        7\n",
      "39.0887        7\n",
      "44.7840        7\n",
      "41.1624        7\n",
      "48.4352        7\n",
      "Name: count, Length: 9379, dtype: int64\n",
      "long\n",
      "long\n",
      "-74.9104     7910\n",
      "-87.7042     7894\n",
      "-117.4589    7146\n",
      "-73.9650     6482\n",
      "-119.1717    6219\n",
      "             ... \n",
      "-122.0472       7\n",
      "-91.4877        7\n",
      "-84.1380        7\n",
      "-93.2545        7\n",
      "-84.1637        7\n",
      "Name: count, Length: 9563, dtype: int64\n",
      "city_pop\n",
      "city_pop\n",
      "2906700    104425\n",
      "2680484    102137\n",
      "2504700     86313\n",
      "2383912     79899\n",
      "1417793     61739\n",
      "            ...  \n",
      "5485            7\n",
      "7589            7\n",
      "3886            7\n",
      "81075           7\n",
      "4931            7\n",
      "Name: count, Length: 5948, dtype: int64\n",
      "job\n",
      "job\n",
      "Child psychotherapist                                30143\n",
      "Clinical molecular geneticist                        29653\n",
      "Scientist  clinical histocompatibility and imm...    27710\n",
      "Mental health nurse                                  27571\n",
      "Patent attorney                                      26978\n",
      "                                                     ...  \n",
      "Transport planner                                     8652\n",
      "Commissioning editor                                  8220\n",
      "Actuary                                               8048\n",
      "Illustrator                                           7111\n",
      "Accountant  chartered certified                       6287\n",
      "Name: count, Length: 639, dtype: Int64\n",
      "dob\n",
      "dob\n",
      "863 40 9402    1421\n",
      "181 72 3161    1421\n",
      "601 28 2159    1420\n",
      "021 45 4377    1413\n",
      "483 53 0433    1404\n",
      "               ... \n",
      "539 35 0001       5\n",
      "564 15 1743       5\n",
      "680 94 2735       4\n",
      "104 11 6963       4\n",
      "235 48 4834       3\n",
      "Name: count, Length: 18063, dtype: Int64\n",
      "acct_num\n",
      "acct_num\n",
      "444428442428    1421\n",
      "878790727816    1421\n",
      "880036268130    1420\n",
      "479002760591    1413\n",
      "438490042379    1404\n",
      "                ... \n",
      "738658299552       5\n",
      "488681618080       5\n",
      "903226656367       4\n",
      "612838201149       4\n",
      "150952616111       3\n",
      "Name: count, Length: 18063, dtype: int64\n",
      "profile\n",
      "profile\n",
      "adults 2550 female urban.json     2936465\n",
      "adults 2550 male urban.json       2632028\n",
      "adults 50up female urban.json     1651763\n",
      "adults 50up male urban.json       1546293\n",
      "young adults male urban.json       620527\n",
      "young adults female urban.json     541608\n",
      "adults 2550 female rural.json      142351\n",
      "adults 50up female rural.json      122677\n",
      "adults 50up male rural.json        117832\n",
      "adults 2550 male rural.json        108021\n",
      "young adults male rural.json        30070\n",
      "young adults female rural.json      28553\n",
      "Name: count, dtype: int64\n",
      "trans_date\n",
      "trans_date\n",
      "2019-12-14    123001\n",
      "2019-12-28    122922\n",
      "2019-11-30    122868\n",
      "2020-12-19    122823\n",
      "2020-12-05    122820\n",
      "               ...  \n",
      "2019-11-04     27217\n",
      "2020-10-12     27184\n",
      "2020-10-26     27177\n",
      "2020-11-23     27104\n",
      "2020-10-05     26990\n",
      "Name: count, Length: 184, dtype: int64\n",
      "trans_time\n",
      "trans_time\n",
      "23:33:30    271\n",
      "12:25:53    260\n",
      "17:27:02    259\n",
      "22:28:24    258\n",
      "21:12:43    258\n",
      "           ... \n",
      "09:50:18     19\n",
      "10:05:17     19\n",
      "04:10:49     19\n",
      "00:08:01     19\n",
      "10:45:45     17\n",
      "Name: count, Length: 86400, dtype: int64\n",
      "unix_time\n",
      "unix_time\n",
      "1608973426    13\n",
      "1608481013    12\n",
      "1607192547    12\n",
      "1609000234    12\n",
      "1608450496    12\n",
      "              ..\n",
      "1570207514     1\n",
      "1576943407     1\n",
      "1572619674     1\n",
      "1604325848     1\n",
      "1607016972     1\n",
      "Name: count, Length: 6301488, dtype: int64\n",
      "category\n",
      "category\n",
      "shopping pos      2911942\n",
      "personal care     2443754\n",
      "shopping net      1729188\n",
      "kids pets         1647786\n",
      "travel            1104068\n",
      "entertainment      362610\n",
      "misc pos           254101\n",
      "grocery pos         10627\n",
      "misc net             5977\n",
      "gas transport        3615\n",
      "home                 1944\n",
      "food dining          1009\n",
      "health fitness        802\n",
      "grocery net           765\n",
      "Name: count, dtype: int64\n",
      "amt\n",
      "amt\n",
      "1.02       5098\n",
      "1.03       5070\n",
      "1.01       5050\n",
      "1.05       5025\n",
      "1.07       5008\n",
      "           ... \n",
      "2206.71       1\n",
      "2559.26       1\n",
      "1170.30       1\n",
      "1100.53       1\n",
      "652.92        1\n",
      "Name: count, Length: 126371, dtype: int64\n",
      "is_fraud\n",
      "is_fraud\n",
      "0    10432253\n",
      "1       45935\n",
      "Name: count, dtype: int64\n",
      "merchant\n",
      "merchant\n",
      "fraud_Baumbach, Hodkiewicz and Walsh    58772\n",
      "fraud_Bernhard, Grant and Langworth     58726\n",
      "fraud_Swaniawski, Lowe and Robel        58685\n",
      "fraud_Quitzon, Green and Bashirian      58639\n",
      "fraud_Kuhn LLC                          58631\n",
      "                                        ...  \n",
      "fraud_Wiegand-Lowe                         10\n",
      "fraud_Weber and Sons                        9\n",
      "fraud_Rempel PLC                            9\n",
      "fraud_Runolfsson and Sons                   8\n",
      "fraud_Fadel-Hilpert                         7\n",
      "Name: count, Length: 693, dtype: int64\n",
      "merch_lat\n",
      "merch_lat\n",
      "39.949607    9\n",
      "41.422390    9\n",
      "41.656648    8\n",
      "34.968503    8\n",
      "41.245830    8\n",
      "            ..\n",
      "34.480112    1\n",
      "33.351584    1\n",
      "34.575749    1\n",
      "33.368324    1\n",
      "37.227638    1\n",
      "Name: count, Length: 7860211, dtype: int64\n",
      "merch_long\n",
      "merch_long\n",
      "-73.128505     7\n",
      "-83.233292     7\n",
      "-73.704961     7\n",
      "-117.409701    7\n",
      "-82.481504     6\n",
      "              ..\n",
      "-86.167174     1\n",
      "-86.069143     1\n",
      "-84.584734     1\n",
      "-84.738340     1\n",
      "-75.954500     1\n",
      "Name: count, Length: 9187779, dtype: int64\n",
      "year\n",
      "year\n",
      "0    5262827\n",
      "1    5215361\n",
      "Name: count, dtype: int64\n"
     ]
    }
   ],
   "source": [
    "for col in df:\n",
    "    print(col)\n",
    "    print(df[col].value_counts())"
   ]
  },
  {
   "cell_type": "markdown",
   "id": "258ce9c2",
   "metadata": {},
   "source": [
    "# Narrowing Categories"
   ]
  },
  {
   "cell_type": "markdown",
   "id": "249271d9",
   "metadata": {},
   "source": [
    "Exploriring the 'native.country' category"
   ]
  },
  {
   "cell_type": "code",
   "execution_count": 419,
   "id": "c1d1ca5a",
   "metadata": {},
   "outputs": [
    {
     "data": {
      "text/plain": [
       "state\n",
       "CA    1219892\n",
       "TX     804642\n",
       "NY     664862\n",
       "FL     623530\n",
       "IL     481016\n",
       "PA     456854\n",
       "OH     378997\n",
       "GA     344809\n",
       "MI     334745\n",
       "NC     331156\n",
       "NJ     296754\n",
       "VA     288703\n",
       "AZ     242221\n",
       "WA     240543\n",
       "TN     218378\n",
       "IN     215853\n",
       "MA     208974\n",
       "MD     205833\n",
       "MO     191477\n",
       "MN     185156\n",
       "SC     184341\n",
       "WI     183809\n",
       "CO     156375\n",
       "KY     147156\n",
       "AL     146073\n",
       "LA     140832\n",
       "OR     124816\n",
       "CT     121243\n",
       "OK     120729\n",
       "NV     105019\n",
       "IA     104920\n",
       "AR     100531\n",
       "UT      95330\n",
       "MS      87227\n",
       "KS      83687\n",
       "NM      73022\n",
       "NE      62021\n",
       "WV      56906\n",
       "HI      51305\n",
       "NH      50362\n",
       "ME      49263\n",
       "ID      49083\n",
       "DE      37623\n",
       "VT      33201\n",
       "MT      32864\n",
       "RI      32298\n",
       "SD      31949\n",
       "AK      24064\n",
       "ND      23793\n",
       "DC      17646\n",
       "WY      16305\n",
       "Name: count, dtype: int64"
      ]
     },
     "execution_count": 419,
     "metadata": {},
     "output_type": "execute_result"
    }
   ],
   "source": [
    "df['state'].value_counts()"
   ]
  },
  {
   "cell_type": "code",
   "execution_count": 420,
   "id": "c3dad069",
   "metadata": {},
   "outputs": [],
   "source": [
    "# North America\n",
    "df['state'] = df['state'].replace({    \n",
    "                                    # USA States\n",
    "                                    'MN': 'North America', 'SC': 'North America', 'KY': 'North America', 'AL': 'North America',\n",
    "                                    'LA': 'North America', 'OR': 'North America', 'CT': 'North America', 'OK': 'North America',\n",
    "                                    'NV': 'North America', 'IA': 'North America', 'UT': 'North America', 'MS': 'North America',\n",
    "                                    'KS': 'North America', 'NM': 'North America', 'NE': 'North America', 'WV': 'North America',\n",
    "                                    'HI': 'North America', 'NH': 'North America', 'ME': 'North America', 'ID': 'North America',\n",
    "                                    'DE': 'North America', 'VT': 'North America', 'MT': 'North America', 'RI': 'North America',\n",
    "                                    'SD': 'North America', 'AK': 'North America', 'ND': 'North America', 'DC': 'North America',\n",
    "                                    'WY': 'North America', 'NY': 'North America', 'PA': 'North America', 'NJ': 'North America', \n",
    "                                    'MA': 'North America', 'MD': 'North America','CT': 'North America', 'RI': 'North America', \n",
    "                                    'DE': 'North America', 'VT': 'North America', 'NH': 'North America',\n",
    "                                    'ME': 'North America',\n",
    "                                                    })                                                    "
   ]
  },
  {
   "cell_type": "code",
   "execution_count": 421,
   "id": "fa4add36",
   "metadata": {},
   "outputs": [],
   "source": [
    "# South America\n",
    "df['state'] = df['state'].replace({                                                     \n",
    "                                   # South America\n",
    "                                   'BR': 'South America', 'AR': 'South America', 'CO': 'South America', 'PE': 'South America',\n",
    "                                   'VE': 'South America', 'CL': 'South America','TX': 'South America', 'FL': 'South America', \n",
    "                                   'GA': 'South America', 'NC': 'South America', 'VA': 'South America',\n",
    "                                   'SC': 'South America', 'KY': 'South America', 'AL': 'South America', \n",
    "                                   'LA': 'South America', 'TN': 'South America','AR': 'South America', \n",
    "                                   'MS': 'South America', 'OK': 'South America', 'WV': 'South America',\n",
    "                                                    })\n"
   ]
  },
  {
   "cell_type": "code",
   "execution_count": 422,
   "id": "94d2c141",
   "metadata": {},
   "outputs": [],
   "source": [
    "# Western America\n",
    "df['state'] = df['state'].replace({                                                     \n",
    "                                    # Western America\n",
    "                                    'CA': 'Western America', 'WA': 'Western America', 'OR': 'Western America', 'NV': 'Western America', 'AZ': 'Western America',\n",
    "                                    'CO': 'Western America', 'ID': 'Western America', 'UT': 'Western America', 'HI': 'Western America', 'AK': 'Western America',\n",
    "\n",
    "                                                    })\n"
   ]
  },
  {
   "cell_type": "code",
   "execution_count": 423,
   "id": "7b6a7f21",
   "metadata": {},
   "outputs": [],
   "source": [
    "# Midwestern America\n",
    "df['state'] = df['state'].replace({   \n",
    "    \n",
    "                                                    # Midwestern America\n",
    "    'IL': 'Midwestern America', 'OH': 'Midwestern America', 'MI': 'Midwestern America', 'IN': 'Midwestern America', 'WI': 'Midwestern America',\n",
    "    'MO': 'Midwestern America', 'MN': 'Midwestern America', 'IA': 'Midwestern America', 'KS': 'Midwestern America', 'NE': 'Midwestern America',\n",
    "    'ND': 'Midwestern America', 'SD': 'Midwestern America', 'MT': 'Midwestern America',\n",
    "\n",
    "                                                    })\n"
   ]
  },
  {
   "cell_type": "code",
   "execution_count": 424,
   "id": "547257b0",
   "metadata": {},
   "outputs": [
    {
     "data": {
      "text/plain": [
       "state\n",
       "North America         4121511\n",
       "South America         2868124\n",
       "Midwestern America    1785897\n",
       "Western America       1702656\n",
       "Name: count, dtype: int64"
      ]
     },
     "execution_count": 424,
     "metadata": {},
     "output_type": "execute_result"
    }
   ],
   "source": [
    "df['state'].value_counts()"
   ]
  },
  {
   "cell_type": "code",
   "execution_count": 425,
   "id": "3d1608b1",
   "metadata": {},
   "outputs": [],
   "source": [
    "df.to_pickle('df_3.1.25_3.pkl')"
   ]
  },
  {
   "cell_type": "code",
   "execution_count": 288,
   "id": "7daa7677",
   "metadata": {},
   "outputs": [],
   "source": [
    "df = pd.read_pickle('df_3.1.25_3.pkl')"
   ]
  },
  {
   "cell_type": "code",
   "execution_count": 426,
   "id": "5b907662",
   "metadata": {},
   "outputs": [],
   "source": [
    "# print(df['job'].value_counts())"
   ]
  },
  {
   "cell_type": "code",
   "execution_count": 427,
   "id": "d8cbbd3c",
   "metadata": {},
   "outputs": [
    {
     "data": {
      "text/plain": [
       "job_category\n",
       "IT                      2221451\n",
       "Tech                    1493498\n",
       "Healthcare              1432581\n",
       "Art                      841477\n",
       "Scientist                587651\n",
       "Other                    562574\n",
       "Finance                  498133\n",
       "Management               464983\n",
       "Education                423998\n",
       "Surveyor                 320891\n",
       "Data Scientist           277495\n",
       "Sales                    253531\n",
       "Government               177378\n",
       "Low                      175001\n",
       "Hospitality industry     165354\n",
       "Marketing                163084\n",
       "Human Resources          102653\n",
       "Environment               92643\n",
       "Alternative Medicine      78361\n",
       "Construction              56855\n",
       "EMS                       49585\n",
       "Archaeologist             39011\n",
       "Name: count, dtype: int64"
      ]
     },
     "execution_count": 427,
     "metadata": {},
     "output_type": "execute_result"
    }
   ],
   "source": [
    "import re\n",
    "\n",
    "def categorize_job(title):\n",
    "    title = title.lower()\n",
    "    if re.search(r'product|software|developer|engineer|technologist|programmer', title):\n",
    "        return 'Tech'\n",
    "    elif re.search(r'office|customer|service|support|call|center|client|it', title):\n",
    "        return 'IT'\n",
    "    elif re.search(r'chiropodist|ophthalmologist|orthoptist|pharmacologist|optometrist|psychiatrist|podiatrist|medical|toxicologist|radiographer|therapeutic|haematologist|oncologist|immunologist|midwife|pathologist|dentist|biochemist|clinical|nurse|doctor|healthcare|health|psychotherapist|therapist|psychologist|physiologist|pharmacist|surgeon|optician', title):\n",
    "        return 'Healthcare'\n",
    "    elif re.search(r'homeopath|herbalist|acupuncturist|osteopath', title):\n",
    "        return 'Alternative Medicine'\n",
    "    elif re.search(r'pension|actuary|finance|analyst|economist|pensions|financial|accountant|tax|banker|investment|accounting|banking|analyst', title):\n",
    "        return 'Finance'\n",
    "    elif re.search(r'marketing|advertising|brand|editor|journalist', title):\n",
    "        return 'Marketing'\n",
    "    elif re.search(r'social|office|secretary|hr|human|resources', title):\n",
    "        return 'Human Resources'\n",
    "    elif re.search(r'lobbyist|civil|administrator|government|inspector', title):\n",
    "        return 'Government'\n",
    "    elif re.search(r'theatre director|photographer|musician|gaffer|printmaker|dancer|camera|animator|best boy|radio|actor|publishing|broadcasting|film|videotheatre|producer|copywriter|architect|designer|designer|illustrator|arts|art|artist', title):\n",
    "        return 'Art'\n",
    "    elif re.search(r'music tutor|lecturer|education|professor|teacher|librarian', title):\n",
    "        return 'Education'\n",
    "    elif re.search(r'legal|executive|conveyancer|attorney|lawyer|warden|officer', title):\n",
    "        return 'Low'\n",
    "    elif re.search(r'clothing|textile', title):\n",
    "        return 'Clothing/textile'\n",
    "    elif re.search(r'astronomer|geneticist molecular|oceanographer|scientific laboratory|meteorologist|seismologist|microbiologist|chemist|seismic interpreter|hydrologist|ecologist|cytogeneticist|energy|herpetologist|metallurgist|geologist|scientist|geoscientist|scientist', title):\n",
    "        return 'Scientist'\n",
    "    elif re.search(r'surveyor', title):\n",
    "        return 'Surveyor'\n",
    "    elif re.search(r'horticultural consultant|dealer|broker|estate|agentbroker|trader|sales|retail|associate|merchandising', title):\n",
    "        return 'Sales'\n",
    "    elif re.search(r'ambulance person|firefighter|paramedic', title):\n",
    "        return 'EMS'\n",
    "    elif re.search(r'statistician|data|information|researcher|media buyer|data|machine learning|ai|analyst|big data', title):\n",
    "        return 'Data Scientist'\n",
    "    elif re.search(r'mudlogger|planner|contractor|construction|laborer|builder|site|maintenance', title):\n",
    "        return 'Construction'\n",
    "    elif re.search(r'barista|brewer|barrister|crew|event|organiser|hotel|fast|food|restaurant', title):\n",
    "        return 'Hospitality industry'\n",
    "    elif re.search(r'management|chief|manager|curator', title):\n",
    "        return 'Management'\n",
    "    elif re.search(r'occupational hygienist|archaeologist', title):\n",
    "        return 'Archaeologist'\n",
    "    elif re.search(r'environmental consultant|land|arboriculturist|horticulturist|horticulturist commercial|plant breeder/geneticist|plant', title):\n",
    "        return 'Environment'\n",
    "    else:\n",
    "        return 'Other'  # Catch-all for unclassified jobs\n",
    "        \n",
    "\n",
    "df['job_category'] = df['job'].apply(categorize_job)\n",
    "df['job_category'].value_counts()\n"
   ]
  },
  {
   "cell_type": "code",
   "execution_count": 326,
   "id": "569c94fa",
   "metadata": {},
   "outputs": [],
   "source": [
    "# Filter rows where 'job_category' is 'Other'\n",
    "# other_jobs = df[df['job_category'] == 'Other']['job']\n",
    "# other_jobs.value_counts()"
   ]
  },
  {
   "cell_type": "code",
   "execution_count": 428,
   "id": "3cb84608",
   "metadata": {},
   "outputs": [
    {
     "data": {
      "image/png": "[encoded data removed]",
      "text/plain": [
       "<Figure size 1200x600 with 1 Axes>"
      ]
     },
     "metadata": {},
     "output_type": "display_data"
    }
   ],
   "source": [
    "import matplotlib.pyplot as plt\n",
    "import seaborn as sns\n",
    "\n",
    "plt.figure(figsize=(12, 6))\n",
    "sns.countplot(data=df, y='job_category', order=df['job_category'].value_counts().index)  # Sort by frequency\n",
    "\n",
    "plt.title('Job Distribution')\n",
    "plt.xlabel('Count')\n",
    "plt.ylabel('job_category')\n",
    "plt.show()\n"
   ]
  },
  {
   "cell_type": "code",
   "execution_count": 430,
   "id": "06662daa",
   "metadata": {},
   "outputs": [],
   "source": [
    "df.to_pickle('df_3.1.25_4.pkl')"
   ]
  },
  {
   "cell_type": "code",
   "execution_count": 431,
   "id": "471c5b18",
   "metadata": {},
   "outputs": [],
   "source": [
    "df = pd.read_pickle('df_3.1.25_4.pkl')"
   ]
  },
  {
   "cell_type": "markdown",
   "id": "c5b2fac1",
   "metadata": {},
   "source": [
    "category data"
   ]
  },
  {
   "cell_type": "code",
   "execution_count": 432,
   "id": "8f661645",
   "metadata": {},
   "outputs": [],
   "source": [
    "df['job_category'] = df['job_category'].astype('category')\n",
    "df['state']=df['state'].astype('category')"
   ]
  },
  {
   "cell_type": "code",
   "execution_count": 433,
   "id": "4f75a6d2",
   "metadata": {},
   "outputs": [],
   "source": [
    "df['profile']=df['profile'].str.replace('_',' ')"
   ]
  },
  {
   "cell_type": "markdown",
   "id": "527130f5",
   "metadata": {},
   "source": [
    "-------------------"
   ]
  },
  {
   "cell_type": "code",
   "execution_count": 447,
   "id": "39598749",
   "metadata": {},
   "outputs": [],
   "source": [
    "df['profile'] = df['profile'].str.replace('.json', '')\n",
    "df['profile']\n",
    "\n",
    "# Function to extract \"adults\" or \"young_adults\"\n",
    "def extract_category(filename):\n",
    "    if 'young adults' in filename:\n",
    "        return '0'\n",
    "    else:\n",
    "        return '1'\n",
    "\n",
    "# Apply the function to create a new column\n",
    "df['age_category'] = df['profile'].apply(extract_category)"
   ]
  },
  {
   "cell_type": "code",
   "execution_count": 448,
   "id": "cac12d52",
   "metadata": {},
   "outputs": [
    {
     "data": {
      "text/plain": [
       "age_category\n",
       "1    9257430\n",
       "0    1220758\n",
       "Name: count, dtype: int64"
      ]
     },
     "execution_count": 448,
     "metadata": {},
     "output_type": "execute_result"
    }
   ],
   "source": [
    "df['age_category'].value_counts()"
   ]
  },
  {
   "cell_type": "code",
   "execution_count": 435,
   "id": "d1780e0b",
   "metadata": {},
   "outputs": [],
   "source": [
    "# Function to extract \"urban\" or \"rural\"\n",
    "def extract_category(filename):\n",
    "    if 'urban' in filename:\n",
    "        return '0'\n",
    "    else:\n",
    "        return '1'\n",
    "\n",
    "# Apply the function to create a new column\n",
    "df['location'] = df['profile'].apply(extract_category)"
   ]
  },
  {
   "cell_type": "code",
   "execution_count": 436,
   "id": "74615504",
   "metadata": {},
   "outputs": [],
   "source": [
    "# Function to extract \"50up\" or \"2550\"\n",
    "def extract_category(filename):\n",
    "    if '50up' in filename:\n",
    "        return '1'\n",
    "    else:\n",
    "        return '0'\n",
    "\n",
    "# Apply the function to create a new column\n",
    "df['profile_category'] = df['profile'].apply(extract_category)"
   ]
  },
  {
   "cell_type": "code",
   "execution_count": 437,
   "id": "fe65cadf",
   "metadata": {},
   "outputs": [
    {
     "data": {
      "image/png": "[encoded data removed]",
      "text/plain": [
       "<Figure size 1200x600 with 1 Axes>"
      ]
     },
     "metadata": {},
     "output_type": "display_data"
    }
   ],
   "source": [
    "import matplotlib.pyplot as plt\n",
    "import seaborn as sns\n",
    "\n",
    "plt.figure(figsize=(12, 6))\n",
    "sns.countplot(data=df, y='profile', order=df['profile'].value_counts().index)  # Sort by frequency\n",
    "\n",
    "plt.title('profile Distribution')\n",
    "plt.xlabel('Count')\n",
    "plt.ylabel('profile')\n",
    "plt.show()"
   ]
  },
  {
   "cell_type": "code",
   "execution_count": 438,
   "id": "429110e7",
   "metadata": {},
   "outputs": [],
   "source": [
    "df['profile']=df['profile'].astype('category')"
   ]
  },
  {
   "cell_type": "code",
   "execution_count": 449,
   "id": "525785b5",
   "metadata": {},
   "outputs": [
    {
     "data": {
      "text/html": [
       "<div>\n",
       "<style scoped>\n",
       "    .dataframe tbody tr th:only-of-type {\n",
       "        vertical-align: middle;\n",
       "    }\n",
       "\n",
       "    .dataframe tbody tr th {\n",
       "        vertical-align: top;\n",
       "    }\n",
       "\n",
       "    .dataframe thead th {\n",
       "        text-align: right;\n",
       "    }\n",
       "</style>\n",
       "<table border=\"1\" class=\"dataframe\">\n",
       "  <thead>\n",
       "    <tr style=\"text-align: right;\">\n",
       "      <th></th>\n",
       "      <th>profile</th>\n",
       "      <th>profile_category</th>\n",
       "      <th>age_category</th>\n",
       "      <th>location</th>\n",
       "    </tr>\n",
       "  </thead>\n",
       "  <tbody>\n",
       "    <tr>\n",
       "      <th>0</th>\n",
       "      <td>young adults female urban</td>\n",
       "      <td>0</td>\n",
       "      <td>0</td>\n",
       "      <td>0</td>\n",
       "    </tr>\n",
       "    <tr>\n",
       "      <th>1</th>\n",
       "      <td>young adults female urban</td>\n",
       "      <td>0</td>\n",
       "      <td>0</td>\n",
       "      <td>0</td>\n",
       "    </tr>\n",
       "    <tr>\n",
       "      <th>2</th>\n",
       "      <td>young adults female urban</td>\n",
       "      <td>0</td>\n",
       "      <td>0</td>\n",
       "      <td>0</td>\n",
       "    </tr>\n",
       "    <tr>\n",
       "      <th>3</th>\n",
       "      <td>young adults female urban</td>\n",
       "      <td>0</td>\n",
       "      <td>0</td>\n",
       "      <td>0</td>\n",
       "    </tr>\n",
       "    <tr>\n",
       "      <th>4</th>\n",
       "      <td>young adults female urban</td>\n",
       "      <td>0</td>\n",
       "      <td>0</td>\n",
       "      <td>0</td>\n",
       "    </tr>\n",
       "    <tr>\n",
       "      <th>...</th>\n",
       "      <td>...</td>\n",
       "      <td>...</td>\n",
       "      <td>...</td>\n",
       "      <td>...</td>\n",
       "    </tr>\n",
       "    <tr>\n",
       "      <th>10478183</th>\n",
       "      <td>adults 50up male urban</td>\n",
       "      <td>1</td>\n",
       "      <td>1</td>\n",
       "      <td>0</td>\n",
       "    </tr>\n",
       "    <tr>\n",
       "      <th>10478184</th>\n",
       "      <td>adults 50up male urban</td>\n",
       "      <td>1</td>\n",
       "      <td>1</td>\n",
       "      <td>0</td>\n",
       "    </tr>\n",
       "    <tr>\n",
       "      <th>10478185</th>\n",
       "      <td>adults 50up male urban</td>\n",
       "      <td>1</td>\n",
       "      <td>1</td>\n",
       "      <td>0</td>\n",
       "    </tr>\n",
       "    <tr>\n",
       "      <th>10478186</th>\n",
       "      <td>adults 50up male urban</td>\n",
       "      <td>1</td>\n",
       "      <td>1</td>\n",
       "      <td>0</td>\n",
       "    </tr>\n",
       "    <tr>\n",
       "      <th>10478187</th>\n",
       "      <td>adults 50up male urban</td>\n",
       "      <td>1</td>\n",
       "      <td>1</td>\n",
       "      <td>0</td>\n",
       "    </tr>\n",
       "  </tbody>\n",
       "</table>\n",
       "<p>10478188 rows × 4 columns</p>\n",
       "</div>"
      ],
      "text/plain": [
       "                            profile profile_category age_category location\n",
       "0         young adults female urban                0            0        0\n",
       "1         young adults female urban                0            0        0\n",
       "2         young adults female urban                0            0        0\n",
       "3         young adults female urban                0            0        0\n",
       "4         young adults female urban                0            0        0\n",
       "...                             ...              ...          ...      ...\n",
       "10478183     adults 50up male urban                1            1        0\n",
       "10478184     adults 50up male urban                1            1        0\n",
       "10478185     adults 50up male urban                1            1        0\n",
       "10478186     adults 50up male urban                1            1        0\n",
       "10478187     adults 50up male urban                1            1        0\n",
       "\n",
       "[10478188 rows x 4 columns]"
      ]
     },
     "execution_count": 449,
     "metadata": {},
     "output_type": "execute_result"
    }
   ],
   "source": [
    "df[['profile','profile_category', 'age_category', 'location']]"
   ]
  },
  {
   "cell_type": "code",
   "execution_count": 441,
   "id": "7a2f0953",
   "metadata": {},
   "outputs": [],
   "source": [
    "# Compute category frequencies\n",
    "category_counts = df['category'].value_counts()\n",
    "\n",
    "# Replace categories below the threshold with \"Other\"\n",
    "df['category'] = df['category'].apply(lambda x: x if category_counts[x] >= 11000 else 'Other')"
   ]
  },
  {
   "cell_type": "code",
   "execution_count": 442,
   "id": "384e85dc",
   "metadata": {},
   "outputs": [
    {
     "data": {
      "text/plain": [
       "category\n",
       "shopping pos     2911942\n",
       "personal care    2443754\n",
       "shopping net     1729188\n",
       "kids pets        1647786\n",
       "travel           1104068\n",
       "entertainment     362610\n",
       "misc pos          254101\n",
       "Other              24739\n",
       "Name: count, dtype: int64"
      ]
     },
     "execution_count": 442,
     "metadata": {},
     "output_type": "execute_result"
    }
   ],
   "source": [
    "df['category'].value_counts()"
   ]
  },
  {
   "cell_type": "code",
   "execution_count": 443,
   "id": "d0c49f3f",
   "metadata": {},
   "outputs": [
    {
     "data": {
      "image/png": "[encoded data removed]",
      "text/plain": [
       "<Figure size 1200x600 with 1 Axes>"
      ]
     },
     "metadata": {},
     "output_type": "display_data"
    }
   ],
   "source": [
    "plt.figure(figsize=(12, 6))\n",
    "sns.countplot(data=df, y='category', order=df['category'].value_counts().index)  # Sort by frequency\n",
    "\n",
    "plt.title('Category Distribution')\n",
    "plt.xlabel('Count')\n",
    "plt.ylabel('Category')\n",
    "plt.show()"
   ]
  },
  {
   "cell_type": "code",
   "execution_count": 444,
   "id": "ed5b73ae",
   "metadata": {},
   "outputs": [
    {
     "name": "stdout",
     "output_type": "stream",
     "text": [
      "ssn\n",
      "ssn\n",
      "863 40 9402    1421\n",
      "181 72 3161    1421\n",
      "601 28 2159    1420\n",
      "021 45 4377    1413\n",
      "483 53 0433    1404\n",
      "               ... \n",
      "539 35 0001       5\n",
      "564 15 1743       5\n",
      "680 94 2735       4\n",
      "104 11 6963       4\n",
      "235 48 4834       3\n",
      "Name: count, Length: 18063, dtype: Int64\n",
      "cc_num\n",
      "cc_num\n",
      "3511336354282257       1421\n",
      "4934061264665          1421\n",
      "4675154798156          1420\n",
      "4700649300310256       1413\n",
      "6011603074881389       1404\n",
      "                       ... \n",
      "4339718551383             5\n",
      "4463099297651905671       5\n",
      "6590438242352388          4\n",
      "4605956343180739203       4\n",
      "3567931054187377          3\n",
      "Name: count, Length: 18063, dtype: int64\n",
      "first\n",
      "first\n",
      "Michael        235602\n",
      "David          150442\n",
      "Jennifer       141902\n",
      "Robert         139557\n",
      "Christopher    139454\n",
      "                ...  \n",
      "Mathew            228\n",
      "Angie             218\n",
      "Karla             214\n",
      "Gilbert           211\n",
      "Mercedes          202\n",
      "Name: count, Length: 686, dtype: int64\n",
      "last\n",
      "last\n",
      "Smith        219562\n",
      "Johnson      165757\n",
      "Williams     145483\n",
      "Brown        135938\n",
      "Jones        125127\n",
      "              ...  \n",
      "Travis          469\n",
      "Mcpherson       456\n",
      "Arias           454\n",
      "Bray            453\n",
      "Cherry          439\n",
      "Name: count, Length: 1000, dtype: int64\n",
      "gender\n",
      "gender\n",
      "0    5423417\n",
      "1    5054771\n",
      "Name: count, dtype: int64\n",
      "street\n",
      "street\n",
      "40996 Mitchell Station Apt 804    1421\n",
      "66584 Eric Road Suite 886         1421\n",
      "22354 Stephanie Club Apt 971      1420\n",
      "2536 Cantrell Dale Suite 611      1413\n",
      "67627 Howard Lakes Apt 038        1404\n",
      "                                  ... \n",
      "3375 Martin Ranch                    5\n",
      "58281 Goodwin Brook                  5\n",
      "49572 Rachel Mews                    4\n",
      "5337 Olson Garden Apt 316            4\n",
      "04200 Bruce Ramp Suite 108           3\n",
      "Name: count, Length: 18063, dtype: Int64\n",
      "city\n",
      "city\n",
      "Houston        105978\n",
      "Chicago        102137\n",
      "Brooklyn        89168\n",
      "Los Angeles     79899\n",
      "Las Vegas       62646\n",
      "                ...  \n",
      "Rockport            7\n",
      "Carlyle             7\n",
      "Hubbard             7\n",
      "Ash                 7\n",
      "Tualatin            7\n",
      "Name: count, Length: 4966, dtype: int64\n",
      "state\n",
      "state\n",
      "North America         4121511\n",
      "South America         2868124\n",
      "Midwestern America    1785897\n",
      "Western America       1702656\n",
      "Name: count, dtype: int64\n",
      "zip\n",
      "zip\n",
      "19047    7910\n",
      "92503    7146\n",
      "11230    6482\n",
      "93033    6219\n",
      "11385    6139\n",
      "         ... \n",
      "29617       7\n",
      "91606       7\n",
      "94561       7\n",
      "70501       7\n",
      "30345       7\n",
      "Name: count, Length: 9698, dtype: int64\n",
      "lat\n",
      "lat\n",
      "33.9208    12831\n",
      "40.1813     7910\n",
      "33.5085     6732\n",
      "38.2507     6582\n",
      "40.6225     6482\n",
      "           ...  \n",
      "39.7155        7\n",
      "39.0887        7\n",
      "44.7840        7\n",
      "41.1624        7\n",
      "48.4352        7\n",
      "Name: count, Length: 9379, dtype: int64\n",
      "long\n",
      "long\n",
      "-74.9104     7910\n",
      "-87.7042     7894\n",
      "-117.4589    7146\n",
      "-73.9650     6482\n",
      "-119.1717    6219\n",
      "             ... \n",
      "-122.0472       7\n",
      "-91.4877        7\n",
      "-84.1380        7\n",
      "-93.2545        7\n",
      "-84.1637        7\n",
      "Name: count, Length: 9563, dtype: int64\n",
      "city_pop\n",
      "city_pop\n",
      "2906700    104425\n",
      "2680484    102137\n",
      "2504700     86313\n",
      "2383912     79899\n",
      "1417793     61739\n",
      "            ...  \n",
      "5485            7\n",
      "7589            7\n",
      "3886            7\n",
      "81075           7\n",
      "4931            7\n",
      "Name: count, Length: 5948, dtype: int64\n",
      "job\n",
      "job\n",
      "Child psychotherapist                                30143\n",
      "Clinical molecular geneticist                        29653\n",
      "Scientist  clinical histocompatibility and imm...    27710\n",
      "Mental health nurse                                  27571\n",
      "Patent attorney                                      26978\n",
      "                                                     ...  \n",
      "Transport planner                                     8652\n",
      "Commissioning editor                                  8220\n",
      "Actuary                                               8048\n",
      "Illustrator                                           7111\n",
      "Accountant  chartered certified                       6287\n",
      "Name: count, Length: 639, dtype: Int64\n",
      "dob\n",
      "dob\n",
      "863 40 9402    1421\n",
      "181 72 3161    1421\n",
      "601 28 2159    1420\n",
      "021 45 4377    1413\n",
      "483 53 0433    1404\n",
      "               ... \n",
      "539 35 0001       5\n",
      "564 15 1743       5\n",
      "680 94 2735       4\n",
      "104 11 6963       4\n",
      "235 48 4834       3\n",
      "Name: count, Length: 18063, dtype: Int64\n",
      "acct_num\n",
      "acct_num\n",
      "444428442428    1421\n",
      "878790727816    1421\n",
      "880036268130    1420\n",
      "479002760591    1413\n",
      "438490042379    1404\n",
      "                ... \n",
      "738658299552       5\n",
      "488681618080       5\n",
      "903226656367       4\n",
      "612838201149       4\n",
      "150952616111       3\n",
      "Name: count, Length: 18063, dtype: int64\n",
      "profile\n",
      "profile\n",
      "adults 2550 female urban     2936465\n",
      "adults 2550 male urban       2632028\n",
      "adults 50up female urban     1651763\n",
      "adults 50up male urban       1546293\n",
      "young adults male urban       620527\n",
      "young adults female urban     541608\n",
      "adults 2550 female rural      142351\n",
      "adults 50up female rural      122677\n",
      "adults 50up male rural        117832\n",
      "adults 2550 male rural        108021\n",
      "young adults male rural        30070\n",
      "young adults female rural      28553\n",
      "Name: count, dtype: int64\n",
      "trans_date\n",
      "trans_date\n",
      "2019-12-14    123001\n",
      "2019-12-28    122922\n",
      "2019-11-30    122868\n",
      "2020-12-19    122823\n",
      "2020-12-05    122820\n",
      "               ...  \n",
      "2019-11-04     27217\n",
      "2020-10-12     27184\n",
      "2020-10-26     27177\n",
      "2020-11-23     27104\n",
      "2020-10-05     26990\n",
      "Name: count, Length: 184, dtype: int64\n",
      "trans_time\n",
      "trans_time\n",
      "23:33:30    271\n",
      "12:25:53    260\n",
      "17:27:02    259\n",
      "22:28:24    258\n",
      "21:12:43    258\n",
      "           ... \n",
      "09:50:18     19\n",
      "10:05:17     19\n",
      "04:10:49     19\n",
      "00:08:01     19\n",
      "10:45:45     17\n",
      "Name: count, Length: 86400, dtype: int64\n",
      "unix_time\n",
      "unix_time\n",
      "1608973426    13\n",
      "1608481013    12\n",
      "1607192547    12\n",
      "1609000234    12\n",
      "1608450496    12\n",
      "              ..\n",
      "1570207514     1\n",
      "1576943407     1\n",
      "1572619674     1\n",
      "1604325848     1\n",
      "1607016972     1\n",
      "Name: count, Length: 6301488, dtype: int64\n",
      "category\n",
      "category\n",
      "shopping pos     2911942\n",
      "personal care    2443754\n",
      "shopping net     1729188\n",
      "kids pets        1647786\n",
      "travel           1104068\n",
      "entertainment     362610\n",
      "misc pos          254101\n",
      "Other              24739\n",
      "Name: count, dtype: int64\n",
      "amt\n",
      "amt\n",
      "1.02       5098\n",
      "1.03       5070\n",
      "1.01       5050\n",
      "1.05       5025\n",
      "1.07       5008\n",
      "           ... \n",
      "2206.71       1\n",
      "2559.26       1\n",
      "1170.30       1\n",
      "1100.53       1\n",
      "652.92        1\n",
      "Name: count, Length: 126371, dtype: int64\n",
      "is_fraud\n",
      "is_fraud\n",
      "0    10432253\n",
      "1       45935\n",
      "Name: count, dtype: int64\n",
      "merchant\n",
      "merchant\n",
      "fraud_Baumbach, Hodkiewicz and Walsh    58772\n",
      "fraud_Bernhard, Grant and Langworth     58726\n",
      "fraud_Swaniawski, Lowe and Robel        58685\n",
      "fraud_Quitzon, Green and Bashirian      58639\n",
      "fraud_Kuhn LLC                          58631\n",
      "                                        ...  \n",
      "fraud_Wiegand-Lowe                         10\n",
      "fraud_Weber and Sons                        9\n",
      "fraud_Rempel PLC                            9\n",
      "fraud_Runolfsson and Sons                   8\n",
      "fraud_Fadel-Hilpert                         7\n",
      "Name: count, Length: 693, dtype: int64\n",
      "merch_lat\n",
      "merch_lat\n",
      "39.949607    9\n",
      "41.422390    9\n",
      "41.656648    8\n",
      "34.968503    8\n",
      "41.245830    8\n",
      "            ..\n",
      "34.480112    1\n",
      "33.351584    1\n",
      "34.575749    1\n",
      "33.368324    1\n",
      "37.227638    1\n",
      "Name: count, Length: 7860211, dtype: int64\n",
      "merch_long\n",
      "merch_long\n",
      "-73.128505     7\n",
      "-83.233292     7\n",
      "-73.704961     7\n",
      "-117.409701    7\n",
      "-82.481504     6\n",
      "              ..\n",
      "-86.167174     1\n",
      "-86.069143     1\n",
      "-84.584734     1\n",
      "-84.738340     1\n",
      "-75.954500     1\n",
      "Name: count, Length: 9187779, dtype: int64\n",
      "year\n",
      "year\n",
      "0    5262827\n",
      "1    5215361\n",
      "Name: count, dtype: int64\n",
      "job_category\n",
      "job_category\n",
      "IT                      2221451\n",
      "Tech                    1493498\n",
      "Healthcare              1432581\n",
      "Art                      841477\n",
      "Scientist                587651\n",
      "Other                    562574\n",
      "Finance                  498133\n",
      "Management               464983\n",
      "Education                423998\n",
      "Surveyor                 320891\n",
      "Data Scientist           277495\n",
      "Sales                    253531\n",
      "Government               177378\n",
      "Low                      175001\n",
      "Hospitality industry     165354\n",
      "Marketing                163084\n",
      "Human Resources          102653\n",
      "Environment               92643\n",
      "Alternative Medicine      78361\n",
      "Construction              56855\n",
      "EMS                       49585\n",
      "Archaeologist             39011\n",
      "Name: count, dtype: int64\n",
      "age_category\n",
      "age_category\n",
      "1    10478188\n",
      "Name: count, dtype: int64\n",
      "location\n",
      "location\n",
      "0    9928684\n",
      "1     549504\n",
      "Name: count, dtype: int64\n",
      "profile_category\n",
      "profile_category\n",
      "0    7039623\n",
      "1    3438565\n",
      "Name: count, dtype: int64\n"
     ]
    }
   ],
   "source": [
    "for col in df:\n",
    "    print(col)\n",
    "    print(df[col].value_counts())"
   ]
  },
  {
   "cell_type": "markdown",
   "id": "92d003c9",
   "metadata": {},
   "source": [
    "Changing values"
   ]
  },
  {
   "cell_type": "code",
   "execution_count": 450,
   "id": "536ba032",
   "metadata": {},
   "outputs": [],
   "source": [
    "df['gender']=df['gender'].astype(int)"
   ]
  },
  {
   "cell_type": "code",
   "execution_count": 451,
   "id": "4d08c039",
   "metadata": {},
   "outputs": [],
   "source": [
    "df['location']=df['location'].astype(int)"
   ]
  },
  {
   "cell_type": "code",
   "execution_count": 452,
   "id": "d7d1d9f5",
   "metadata": {},
   "outputs": [],
   "source": [
    "df['age_category']=df['age_category'].astype(int)\n",
    "df['profile_category']=df['profile_category'].astype(int)"
   ]
  },
  {
   "cell_type": "code",
   "execution_count": 453,
   "id": "188644ed",
   "metadata": {},
   "outputs": [
    {
     "data": {
      "text/plain": [
       "gender\n",
       "0    5423417\n",
       "1    5054771\n",
       "Name: count, dtype: int64"
      ]
     },
     "execution_count": 453,
     "metadata": {},
     "output_type": "execute_result"
    }
   ],
   "source": [
    "df['gender'].value_counts()"
   ]
  },
  {
   "cell_type": "code",
   "execution_count": 454,
   "id": "29ba98b9",
   "metadata": {},
   "outputs": [],
   "source": [
    "df.to_pickle('df_3.1.25_5.pkl')"
   ]
  },
  {
   "cell_type": "code",
   "execution_count": 348,
   "id": "d47bc883",
   "metadata": {},
   "outputs": [
    {
     "name": "stdout",
     "output_type": "stream",
     "text": [
      "               city  city_pop\n",
      "2047        Houston    105978\n",
      "793         Chicago    102137\n",
      "517        Brooklyn     89168\n",
      "2547    Los Angeles     79899\n",
      "2395      Las Vegas     62646\n",
      "3933    San Antonio     57181\n",
      "2792          Miami     56609\n",
      "3083  New York City     51929\n",
      "511           Bronx     49643\n",
      "3461   Philadelphia     48670\n",
      "1060         Dallas     47546\n",
      "919        Columbus     45299\n",
      "3467        Phoenix     42714\n",
      "3908    Saint Louis     41193\n"
     ]
    }
   ],
   "source": [
    "# Aggregate the age groups\n",
    "city_group_aggregation = df.groupby('city').size().reset_index(name='city_pop')\n",
    "\n",
    "# city_group_aggregation\n",
    "\n",
    "# Sort city_group_aggregation in ascending order and print the top 10\n",
    "print(city_group_aggregation.sort_values(by='city_pop', ascending=False).head(14))"
   ]
  },
  {
   "cell_type": "code",
   "execution_count": 198,
   "id": "64618b1c",
   "metadata": {},
   "outputs": [
    {
     "data": {
      "text/plain": [
       "city_category\n",
       "Other            9687439\n",
       "Houston           105978\n",
       "Chicago           102137\n",
       "Brooklyn           89168\n",
       "Los Angeles        79899\n",
       "Las Vegas          62646\n",
       "San Antonio        57181\n",
       "Miami              56609\n",
       "New York City      51929\n",
       "Bronx              49643\n",
       "Dallas             47546\n",
       "Columbus           45299\n",
       "Phoenix            42714\n",
       "Name: count, dtype: int64"
      ]
     },
     "execution_count": 198,
     "metadata": {},
     "output_type": "execute_result"
    }
   ],
   "source": [
    "df['city_category'].value_counts()"
   ]
  },
  {
   "cell_type": "code",
   "execution_count": 197,
   "id": "d5d6d1c9",
   "metadata": {},
   "outputs": [],
   "source": [
    "# List of top 10 cities\n",
    "top_cities = ['Houston', 'Chicago', 'Brooklyn', 'Los Angeles', 'Las Vegas', \n",
    "              'San Antonio', 'Miami', 'New York City', 'Bronx', 'philadelphia', 'Dallas' , 'Columbus', 'Phoenix', 'Saint louis']\n",
    "\n",
    "df['city_category'] = df['city'].apply(lambda x: x if x in top_cities else 'Other')"
   ]
  },
  {
   "cell_type": "code",
   "execution_count": 199,
   "id": "88a65265",
   "metadata": {},
   "outputs": [
    {
     "data": {
      "image/png": "[encoded data removed]",
      "text/plain": [
       "<Figure size 1200x600 with 1 Axes>"
      ]
     },
     "metadata": {},
     "output_type": "display_data"
    }
   ],
   "source": [
    "plt.figure(figsize=(12, 6))\n",
    "sns.countplot(data=df, y='city_category', order=df['city_category'].value_counts().index)  # Sort by frequency\n",
    "\n",
    "plt.title('city_category Distribution')\n",
    "plt.xlabel('Count')\n",
    "plt.ylabel('city_category')\n",
    "plt.show()"
   ]
  },
  {
   "cell_type": "markdown",
   "id": "16388b4e",
   "metadata": {},
   "source": [
    "-----------------"
   ]
  },
  {
   "cell_type": "code",
   "execution_count": 143,
   "id": "a2e9f022",
   "metadata": {},
   "outputs": [
    {
     "data": {
      "text/plain": [
       "age\n",
       "31    1058\n",
       "28    1057\n",
       "23    1053\n",
       "33    1037\n",
       "36    1036\n",
       "      ... \n",
       "83       6\n",
       "88       3\n",
       "85       3\n",
       "86       1\n",
       "87       1\n",
       "Name: count, Length: 73, dtype: int64"
      ]
     },
     "execution_count": 143,
     "metadata": {},
     "output_type": "execute_result"
    }
   ],
   "source": [
    "df['age'].value_counts()#reduce"
   ]
  },
  {
   "cell_type": "markdown",
   "id": "570e467c",
   "metadata": {},
   "source": [
    "#### Task"
   ]
  },
  {
   "cell_type": "markdown",
   "id": "a5434b93",
   "metadata": {},
   "source": [
    "1-Create age groups <br> 2- Crate a countplot for the groups"
   ]
  },
  {
   "cell_type": "markdown",
   "id": "ce6ba921",
   "metadata": {},
   "source": [
    "### Age Groups"
   ]
  },
  {
   "cell_type": "code",
   "execution_count": null,
   "id": "3b6060f7",
   "metadata": {},
   "outputs": [],
   "source": [
    "# plot of age\n"
   ]
  },
  {
   "cell_type": "code",
   "execution_count": 144,
   "id": "22884add",
   "metadata": {},
   "outputs": [],
   "source": [
    "# Categorize the ages into bins with labels\n",
    "df['age_range'] = pd.cut(df['age'], bins=[0, 18, 24, 34, 44, 69, float('inf')], labels=['<18', '18-24', '25-34', '35-44', '45-69', '>70'], right=False)"
   ]
  },
  {
   "cell_type": "code",
   "execution_count": 145,
   "id": "68d1a652",
   "metadata": {},
   "outputs": [
    {
     "data": {
      "text/html": [
       "<div>\n",
       "<style scoped>\n",
       "    .dataframe tbody tr th:only-of-type {\n",
       "        vertical-align: middle;\n",
       "    }\n",
       "\n",
       "    .dataframe tbody tr th {\n",
       "        vertical-align: top;\n",
       "    }\n",
       "\n",
       "    .dataframe thead th {\n",
       "        text-align: right;\n",
       "    }\n",
       "</style>\n",
       "<table border=\"1\" class=\"dataframe\">\n",
       "  <thead>\n",
       "    <tr style=\"text-align: right;\">\n",
       "      <th></th>\n",
       "      <th>age_range</th>\n",
       "      <th>count</th>\n",
       "    </tr>\n",
       "  </thead>\n",
       "  <tbody>\n",
       "    <tr>\n",
       "      <th>0</th>\n",
       "      <td>&lt;18</td>\n",
       "      <td>417</td>\n",
       "    </tr>\n",
       "    <tr>\n",
       "      <th>1</th>\n",
       "      <td>18-24</td>\n",
       "      <td>5091</td>\n",
       "    </tr>\n",
       "    <tr>\n",
       "      <th>2</th>\n",
       "      <td>25-34</td>\n",
       "      <td>9957</td>\n",
       "    </tr>\n",
       "    <tr>\n",
       "      <th>3</th>\n",
       "      <td>35-44</td>\n",
       "      <td>9477</td>\n",
       "    </tr>\n",
       "    <tr>\n",
       "      <th>4</th>\n",
       "      <td>45-69</td>\n",
       "      <td>11286</td>\n",
       "    </tr>\n",
       "    <tr>\n",
       "      <th>5</th>\n",
       "      <td>&gt;70</td>\n",
       "      <td>761</td>\n",
       "    </tr>\n",
       "  </tbody>\n",
       "</table>\n",
       "</div>"
      ],
      "text/plain": [
       "  age_range  count\n",
       "0       <18    417\n",
       "1     18-24   5091\n",
       "2     25-34   9957\n",
       "3     35-44   9477\n",
       "4     45-69  11286\n",
       "5       >70    761"
      ]
     },
     "execution_count": 145,
     "metadata": {},
     "output_type": "execute_result"
    }
   ],
   "source": [
    "# Aggregate the age groups\n",
    "age_group_aggregation = df.groupby('age_range').size().reset_index(name='count')\n",
    "\n",
    "age_group_aggregation\n"
   ]
  },
  {
   "cell_type": "code",
   "execution_count": 146,
   "id": "f5a9d998",
   "metadata": {},
   "outputs": [
    {
     "data": {
      "image/png": "[encoded data removed]",
      "text/plain": [
       "<Figure size 720x432 with 1 Axes>"
      ]
     },
     "metadata": {
      "needs_background": "light"
     },
     "output_type": "display_data"
    }
   ],
   "source": [
    "# Create a countplot\n",
    "plt.figure(figsize=(10, 6))\n",
    "sns.countplot(x='age_range', data=df, order=['<18', '18-24', '25-34', '35-44', '45-69', '>70'])\n",
    "plt.title('Count of Age Groups')\n",
    "plt.xlabel('Age Range')\n",
    "plt.ylabel('Count')\n",
    "plt.show()"
   ]
  },
  {
   "cell_type": "code",
   "execution_count": 147,
   "id": "8adee587",
   "metadata": {},
   "outputs": [
    {
     "data": {
      "text/plain": [
       "sex\n",
       "0    25252\n",
       "1    11737\n",
       "Name: count, dtype: int64"
      ]
     },
     "execution_count": 147,
     "metadata": {},
     "output_type": "execute_result"
    }
   ],
   "source": [
    "df['sex'].value_counts()"
   ]
  },
  {
   "cell_type": "code",
   "execution_count": 148,
   "id": "97643dcb",
   "metadata": {},
   "outputs": [],
   "source": [
    "df_dummy=df['income']"
   ]
  },
  {
   "cell_type": "code",
   "execution_count": 149,
   "id": "4585e4b7",
   "metadata": {},
   "outputs": [
    {
     "data": {
      "text/plain": [
       "<Axes: xlabel='income', ylabel='count'>"
      ]
     },
     "execution_count": 149,
     "metadata": {},
     "output_type": "execute_result"
    },
    {
     "data": {
      "image/png": "[encoded data removed]",
      "text/plain": [
       "<Figure size 432x288 with 1 Axes>"
      ]
     },
     "metadata": {
      "needs_background": "light"
     },
     "output_type": "display_data"
    }
   ],
   "source": [
    "sns.countplot(df_dummy)"
   ]
  },
  {
   "cell_type": "markdown",
   "id": "0761e314",
   "metadata": {},
   "source": [
    "Saving Manipulated data"
   ]
  },
  {
   "cell_type": "code",
   "execution_count": 152,
   "id": "58df7a7b",
   "metadata": {},
   "outputs": [],
   "source": [
    "df.to_csv('final_income_copy')"
   ]
  },
  {
   "cell_type": "markdown",
   "id": "e3639bb8",
   "metadata": {},
   "source": [
    "Another option is Pickle file"
   ]
  },
  {
   "cell_type": "markdown",
   "id": "7356c79e",
   "metadata": {},
   "source": [
    "# Pickle file"
   ]
  },
  {
   "cell_type": "markdown",
   "id": "c00c100c",
   "metadata": {},
   "source": [
    "A pickle file in Python is used to serialize and deserialize Python objects. <br>Serialization (write binary) is the process of converting a Python object into a byte stream, which can then be written to a file or transmitted over a network. <br>Deserialization (read binary) is the reverse process, converting the byte stream back into a Python object."
   ]
  },
  {
   "cell_type": "code",
   "execution_count": 154,
   "id": "50093179",
   "metadata": {},
   "outputs": [],
   "source": [
    "df.to_pickle('mrg_df_after_data_prep_5.2.25.pkl')\n",
    "df=pd.read_pickle('mrg_df_after_data_prep_5.2.25.pkl')"
   ]
  },
  {
   "cell_type": "code",
   "execution_count": null,
   "id": "326e4cb1",
   "metadata": {},
   "outputs": [],
   "source": [
    "import pickle\n",
    "#Write a pickle file\n",
    "with open('income.pkl', 'wb') as f:\n",
    "    pickle.dump(df, f)\n",
    "\n",
    "print(\"income dataset saved as a pickle file.\")"
   ]
  },
  {
   "cell_type": "code",
   "execution_count": null,
   "id": "abafe2ae",
   "metadata": {},
   "outputs": [],
   "source": [
    "#Read a pickle file and load the data\n",
    "with open('income.pkl', 'rb') as file:\n",
    "    loaded_data = pickle.load(file)"
   ]
  },
  {
   "cell_type": "code",
   "execution_count": null,
   "id": "72302e43",
   "metadata": {},
   "outputs": [],
   "source": [
    "loaded_data"
   ]
  },
  {
   "cell_type": "markdown",
   "id": "9f5583d5",
   "metadata": {},
   "source": [
    "# We got A flat file, Next to EDA"
   ]
  },
  {
   "cell_type": "code",
   "execution_count": null,
   "id": "a84fab43",
   "metadata": {},
   "outputs": [],
   "source": []
  }
 ],
 "metadata": {
  "kernelspec": {
   "display_name": "Python 3 (ipykernel)",
   "language": "python",
   "name": "python3"
  },
  "language_info": {
   "codemirror_mode": {
    "name": "ipython",
    "version": 3
   },
   "file_extension": ".py",
   "mimetype": "text/x-python",
   "name": "python",
   "nbconvert_exporter": "python",
   "pygments_lexer": "ipython3",
   "version": "3.12.7"
  }
 },
 "nbformat": 4,
 "nbformat_minor": 5
}
