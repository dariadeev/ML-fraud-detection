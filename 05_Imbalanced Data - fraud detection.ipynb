{
 "cells": [
  {
   "cell_type": "markdown",
   "metadata": {},
   "source": [
    "# Imbalanced Dataset"
   ]
  },
  {
   "cell_type": "code",
   "execution_count": 1,
   "metadata": {},
   "outputs": [],
   "source": [
    "import pandas as pd\n",
    "import seaborn as sns\n",
    "import matplotlib.pyplot as plt\n",
    "from sklearn.model_selection import train_test_split\n",
    "from sklearn.metrics import confusion_matrix, accuracy_score, precision_score, recall_score, f1_score\n",
    "from sklearn.linear_model import LogisticRegression\n",
    "from sklearn.ensemble import RandomForestClassifier  \n",
    "from imblearn.over_sampling import RandomOverSampler, SMOTE\n",
    "from imblearn.under_sampling import RandomUnderSampler\n",
    "from imblearn.combine import SMOTETomek\n",
    "import warnings\n",
    "warnings.filterwarnings(\"ignore\") "
   ]
  },
  {
   "cell_type": "code",
   "execution_count": 2,
   "metadata": {},
   "outputs": [],
   "source": [
    "df = pd.read_pickle('df_feature_selection.pkl')"
   ]
  },
  {
   "cell_type": "code",
   "execution_count": 3,
   "metadata": {},
   "outputs": [
    {
     "data": {
      "text/html": [
       "<div>\n",
       "<style scoped>\n",
       "    .dataframe tbody tr th:only-of-type {\n",
       "        vertical-align: middle;\n",
       "    }\n",
       "\n",
       "    .dataframe tbody tr th {\n",
       "        vertical-align: top;\n",
       "    }\n",
       "\n",
       "    .dataframe thead th {\n",
       "        text-align: right;\n",
       "    }\n",
       "</style>\n",
       "<table border=\"1\" class=\"dataframe\">\n",
       "  <thead>\n",
       "    <tr style=\"text-align: right;\">\n",
       "      <th></th>\n",
       "      <th>state</th>\n",
       "      <th>day</th>\n",
       "      <th>job_category</th>\n",
       "      <th>age_category</th>\n",
       "      <th>location</th>\n",
       "      <th>age</th>\n",
       "      <th>count_acct_num</th>\n",
       "      <th>count_zip</th>\n",
       "      <th>city_pop_log</th>\n",
       "      <th>amt_log</th>\n",
       "      <th>category_gas transport</th>\n",
       "      <th>category_grocery pos</th>\n",
       "      <th>category_shopping net</th>\n",
       "      <th>category_shopping pos</th>\n",
       "      <th>time_category_Evening</th>\n",
       "      <th>time_category_Night</th>\n",
       "      <th>is_fraud</th>\n",
       "    </tr>\n",
       "  </thead>\n",
       "  <tbody>\n",
       "    <tr>\n",
       "      <th>185</th>\n",
       "      <td>4</td>\n",
       "      <td>8</td>\n",
       "      <td>13</td>\n",
       "      <td>1</td>\n",
       "      <td>1</td>\n",
       "      <td>22</td>\n",
       "      <td>68</td>\n",
       "      <td>180</td>\n",
       "      <td>9.633580</td>\n",
       "      <td>4.404644</td>\n",
       "      <td>False</td>\n",
       "      <td>False</td>\n",
       "      <td>True</td>\n",
       "      <td>False</td>\n",
       "      <td>True</td>\n",
       "      <td>False</td>\n",
       "      <td>0</td>\n",
       "    </tr>\n",
       "    <tr>\n",
       "      <th>186</th>\n",
       "      <td>4</td>\n",
       "      <td>10</td>\n",
       "      <td>13</td>\n",
       "      <td>1</td>\n",
       "      <td>1</td>\n",
       "      <td>22</td>\n",
       "      <td>68</td>\n",
       "      <td>180</td>\n",
       "      <td>9.633580</td>\n",
       "      <td>4.226542</td>\n",
       "      <td>False</td>\n",
       "      <td>False</td>\n",
       "      <td>True</td>\n",
       "      <td>False</td>\n",
       "      <td>True</td>\n",
       "      <td>False</td>\n",
       "      <td>0</td>\n",
       "    </tr>\n",
       "    <tr>\n",
       "      <th>187</th>\n",
       "      <td>4</td>\n",
       "      <td>22</td>\n",
       "      <td>13</td>\n",
       "      <td>1</td>\n",
       "      <td>1</td>\n",
       "      <td>22</td>\n",
       "      <td>68</td>\n",
       "      <td>180</td>\n",
       "      <td>9.633580</td>\n",
       "      <td>2.255493</td>\n",
       "      <td>False</td>\n",
       "      <td>False</td>\n",
       "      <td>True</td>\n",
       "      <td>False</td>\n",
       "      <td>False</td>\n",
       "      <td>False</td>\n",
       "      <td>0</td>\n",
       "    </tr>\n",
       "    <tr>\n",
       "      <th>188</th>\n",
       "      <td>4</td>\n",
       "      <td>23</td>\n",
       "      <td>13</td>\n",
       "      <td>1</td>\n",
       "      <td>1</td>\n",
       "      <td>22</td>\n",
       "      <td>68</td>\n",
       "      <td>180</td>\n",
       "      <td>9.633580</td>\n",
       "      <td>1.075002</td>\n",
       "      <td>False</td>\n",
       "      <td>False</td>\n",
       "      <td>True</td>\n",
       "      <td>False</td>\n",
       "      <td>True</td>\n",
       "      <td>False</td>\n",
       "      <td>0</td>\n",
       "    </tr>\n",
       "    <tr>\n",
       "      <th>189</th>\n",
       "      <td>4</td>\n",
       "      <td>7</td>\n",
       "      <td>13</td>\n",
       "      <td>1</td>\n",
       "      <td>1</td>\n",
       "      <td>22</td>\n",
       "      <td>68</td>\n",
       "      <td>180</td>\n",
       "      <td>9.633580</td>\n",
       "      <td>0.262364</td>\n",
       "      <td>False</td>\n",
       "      <td>False</td>\n",
       "      <td>True</td>\n",
       "      <td>False</td>\n",
       "      <td>False</td>\n",
       "      <td>False</td>\n",
       "      <td>0</td>\n",
       "    </tr>\n",
       "    <tr>\n",
       "      <th>...</th>\n",
       "      <td>...</td>\n",
       "      <td>...</td>\n",
       "      <td>...</td>\n",
       "      <td>...</td>\n",
       "      <td>...</td>\n",
       "      <td>...</td>\n",
       "      <td>...</td>\n",
       "      <td>...</td>\n",
       "      <td>...</td>\n",
       "      <td>...</td>\n",
       "      <td>...</td>\n",
       "      <td>...</td>\n",
       "      <td>...</td>\n",
       "      <td>...</td>\n",
       "      <td>...</td>\n",
       "      <td>...</td>\n",
       "      <td>...</td>\n",
       "    </tr>\n",
       "    <tr>\n",
       "      <th>1364531</th>\n",
       "      <td>5</td>\n",
       "      <td>26</td>\n",
       "      <td>7</td>\n",
       "      <td>0</td>\n",
       "      <td>1</td>\n",
       "      <td>57</td>\n",
       "      <td>59</td>\n",
       "      <td>59</td>\n",
       "      <td>9.260082</td>\n",
       "      <td>5.408695</td>\n",
       "      <td>False</td>\n",
       "      <td>False</td>\n",
       "      <td>False</td>\n",
       "      <td>True</td>\n",
       "      <td>False</td>\n",
       "      <td>False</td>\n",
       "      <td>0</td>\n",
       "    </tr>\n",
       "    <tr>\n",
       "      <th>1364532</th>\n",
       "      <td>5</td>\n",
       "      <td>1</td>\n",
       "      <td>7</td>\n",
       "      <td>0</td>\n",
       "      <td>1</td>\n",
       "      <td>57</td>\n",
       "      <td>59</td>\n",
       "      <td>59</td>\n",
       "      <td>9.260082</td>\n",
       "      <td>3.971800</td>\n",
       "      <td>False</td>\n",
       "      <td>False</td>\n",
       "      <td>False</td>\n",
       "      <td>True</td>\n",
       "      <td>False</td>\n",
       "      <td>True</td>\n",
       "      <td>0</td>\n",
       "    </tr>\n",
       "    <tr>\n",
       "      <th>1364533</th>\n",
       "      <td>5</td>\n",
       "      <td>29</td>\n",
       "      <td>7</td>\n",
       "      <td>0</td>\n",
       "      <td>1</td>\n",
       "      <td>57</td>\n",
       "      <td>59</td>\n",
       "      <td>59</td>\n",
       "      <td>9.260082</td>\n",
       "      <td>4.798102</td>\n",
       "      <td>False</td>\n",
       "      <td>False</td>\n",
       "      <td>False</td>\n",
       "      <td>True</td>\n",
       "      <td>False</td>\n",
       "      <td>True</td>\n",
       "      <td>0</td>\n",
       "    </tr>\n",
       "    <tr>\n",
       "      <th>1364534</th>\n",
       "      <td>5</td>\n",
       "      <td>26</td>\n",
       "      <td>7</td>\n",
       "      <td>0</td>\n",
       "      <td>1</td>\n",
       "      <td>57</td>\n",
       "      <td>59</td>\n",
       "      <td>59</td>\n",
       "      <td>9.260082</td>\n",
       "      <td>4.194341</td>\n",
       "      <td>False</td>\n",
       "      <td>False</td>\n",
       "      <td>False</td>\n",
       "      <td>True</td>\n",
       "      <td>False</td>\n",
       "      <td>False</td>\n",
       "      <td>0</td>\n",
       "    </tr>\n",
       "    <tr>\n",
       "      <th>1364535</th>\n",
       "      <td>5</td>\n",
       "      <td>9</td>\n",
       "      <td>7</td>\n",
       "      <td>0</td>\n",
       "      <td>1</td>\n",
       "      <td>57</td>\n",
       "      <td>59</td>\n",
       "      <td>59</td>\n",
       "      <td>9.260082</td>\n",
       "      <td>4.370586</td>\n",
       "      <td>False</td>\n",
       "      <td>False</td>\n",
       "      <td>False</td>\n",
       "      <td>True</td>\n",
       "      <td>False</td>\n",
       "      <td>True</td>\n",
       "      <td>0</td>\n",
       "    </tr>\n",
       "  </tbody>\n",
       "</table>\n",
       "<p>249782 rows × 17 columns</p>\n",
       "</div>"
      ],
      "text/plain": [
       "         state  day  job_category  age_category  location  age  \\\n",
       "185          4    8            13             1         1   22   \n",
       "186          4   10            13             1         1   22   \n",
       "187          4   22            13             1         1   22   \n",
       "188          4   23            13             1         1   22   \n",
       "189          4    7            13             1         1   22   \n",
       "...        ...  ...           ...           ...       ...  ...   \n",
       "1364531      5   26             7             0         1   57   \n",
       "1364532      5    1             7             0         1   57   \n",
       "1364533      5   29             7             0         1   57   \n",
       "1364534      5   26             7             0         1   57   \n",
       "1364535      5    9             7             0         1   57   \n",
       "\n",
       "         count_acct_num  count_zip  city_pop_log   amt_log  \\\n",
       "185                  68        180      9.633580  4.404644   \n",
       "186                  68        180      9.633580  4.226542   \n",
       "187                  68        180      9.633580  2.255493   \n",
       "188                  68        180      9.633580  1.075002   \n",
       "189                  68        180      9.633580  0.262364   \n",
       "...                 ...        ...           ...       ...   \n",
       "1364531              59         59      9.260082  5.408695   \n",
       "1364532              59         59      9.260082  3.971800   \n",
       "1364533              59         59      9.260082  4.798102   \n",
       "1364534              59         59      9.260082  4.194341   \n",
       "1364535              59         59      9.260082  4.370586   \n",
       "\n",
       "         category_gas transport  category_grocery pos  category_shopping net  \\\n",
       "185                       False                 False                   True   \n",
       "186                       False                 False                   True   \n",
       "187                       False                 False                   True   \n",
       "188                       False                 False                   True   \n",
       "189                       False                 False                   True   \n",
       "...                         ...                   ...                    ...   \n",
       "1364531                   False                 False                  False   \n",
       "1364532                   False                 False                  False   \n",
       "1364533                   False                 False                  False   \n",
       "1364534                   False                 False                  False   \n",
       "1364535                   False                 False                  False   \n",
       "\n",
       "         category_shopping pos  time_category_Evening  time_category_Night  \\\n",
       "185                      False                   True                False   \n",
       "186                      False                   True                False   \n",
       "187                      False                  False                False   \n",
       "188                      False                   True                False   \n",
       "189                      False                  False                False   \n",
       "...                        ...                    ...                  ...   \n",
       "1364531                   True                  False                False   \n",
       "1364532                   True                  False                 True   \n",
       "1364533                   True                  False                 True   \n",
       "1364534                   True                  False                False   \n",
       "1364535                   True                  False                 True   \n",
       "\n",
       "         is_fraud  \n",
       "185             0  \n",
       "186             0  \n",
       "187             0  \n",
       "188             0  \n",
       "189             0  \n",
       "...           ...  \n",
       "1364531         0  \n",
       "1364532         0  \n",
       "1364533         0  \n",
       "1364534         0  \n",
       "1364535         0  \n",
       "\n",
       "[249782 rows x 17 columns]"
      ]
     },
     "execution_count": 3,
     "metadata": {},
     "output_type": "execute_result"
    }
   ],
   "source": [
    "df"
   ]
  },
  {
   "cell_type": "code",
   "execution_count": 4,
   "metadata": {},
   "outputs": [
    {
     "data": {
      "text/plain": [
       "is_fraud\n",
       "0    248391\n",
       "1      1391\n",
       "Name: count, dtype: int64"
      ]
     },
     "execution_count": 4,
     "metadata": {},
     "output_type": "execute_result"
    }
   ],
   "source": [
    "df['is_fraud'].value_counts()"
   ]
  },
  {
   "cell_type": "code",
   "execution_count": 5,
   "metadata": {},
   "outputs": [
    {
     "data": {
      "text/plain": [
       "0.5568856042469034"
      ]
     },
     "execution_count": 5,
     "metadata": {},
     "output_type": "execute_result"
    }
   ],
   "source": [
    "ratio=1391/(1391+248391)\n",
    "ratio*100"
   ]
  },
  {
   "cell_type": "code",
   "execution_count": 6,
   "metadata": {},
   "outputs": [
    {
     "data": {
      "image/png": "[encoded data removed]",
      "text/plain": [
       "<Figure size 640x480 with 1 Axes>"
      ]
     },
     "metadata": {},
     "output_type": "display_data"
    }
   ],
   "source": [
    "sns.countplot(x='is_fraud', data=df)\n",
    "plt.show()"
   ]
  },
  {
   "cell_type": "markdown",
   "metadata": {},
   "source": [
    "# Train Test Split"
   ]
  },
  {
   "cell_type": "code",
   "execution_count": 7,
   "metadata": {},
   "outputs": [],
   "source": [
    "from sklearn.model_selection import train_test_split"
   ]
  },
  {
   "cell_type": "code",
   "execution_count": 8,
   "metadata": {},
   "outputs": [],
   "source": [
    "X_train, X_test, y_train, y_test = train_test_split(df.drop('is_fraud',axis=1), df['is_fraud'], test_size=0.3, random_state=42)"
   ]
  },
  {
   "cell_type": "code",
   "execution_count": 9,
   "metadata": {},
   "outputs": [],
   "source": [
    "# Define the classification metrics function\n",
    "def classificationMetrics(y, yhat):\n",
    "    metrics = {\n",
    "        \"Accuracy\": accuracy_score(y_test, y_pred),\n",
    "        \"Precision\": precision_score(y_test, y_pred),\n",
    "        \"Recall\": recall_score(y_test, y_pred),\n",
    "        \"F1-Score\": f1_score(y_test, y_pred)\n",
    "    }\n",
    "    return metrics"
   ]
  },
  {
   "cell_type": "code",
   "execution_count": 10,
   "metadata": {},
   "outputs": [
    {
     "data": {
      "text/plain": [
       "{'Accuracy': 0.9994928938413291,\n",
       " 'Precision': 1.0,\n",
       " 'Recall': 0.9088729016786571,\n",
       " 'F1-Score': 0.9522613065326633}"
      ]
     },
     "execution_count": 10,
     "metadata": {},
     "output_type": "execute_result"
    }
   ],
   "source": [
    "model = RandomForestClassifier(random_state=42)\n",
    "# model = LogisticRegression()\n",
    "model.fit(X_train, y_train)\n",
    "y_pred = model.predict(X_test)\n",
    "\n",
    "#accuracy = accuracy_score(y_test, y_pred)\n",
    "#print(\"Accuracy: %.2f%%\" % (accuracy * 100.0))\n",
    "classificationMetrics(y_test, y_pred)"
   ]
  },
  {
   "cell_type": "markdown",
   "metadata": {},
   "source": [
    "# Imbalanced techniques"
   ]
  },
  {
   "cell_type": "code",
   "execution_count": 11,
   "metadata": {},
   "outputs": [],
   "source": [
    "techniques = {\n",
    "    \"ROS\": RandomOverSampler(random_state=47),\n",
    "    \"RUS\": RandomUnderSampler(random_state=47),\n",
    "    \"SMOTE\": SMOTE(random_state=47),\n",
    "    \"SMOTETomek\": SMOTETomek(random_state=47)\n",
    "}"
   ]
  },
  {
   "cell_type": "code",
   "execution_count": 12,
   "metadata": {},
   "outputs": [
    {
     "name": "stdout",
     "output_type": "stream",
     "text": [
      "    Technique  Accuracy  Precision    Recall  F1-Score\n",
      "0         ROS  0.903263   0.050290  0.916067  0.095345\n",
      "1         RUS  0.916047   0.055539  0.880096  0.104484\n",
      "2       SMOTE  0.906652   0.048586  0.848921  0.091912\n",
      "3  SMOTETomek  0.906652   0.048586  0.848921  0.091912\n"
     ]
    }
   ],
   "source": [
    "# Evaluate and collect results using list comprehension\n",
    "results = [\n",
    "    {\n",
    "        \"Technique\": name,\n",
    "        \"Accuracy\": accuracy_score(y_test, model.predict(X_test)),\n",
    "        \"Precision\": precision_score(y_test, model.predict(X_test)),\n",
    "        \"Recall\": recall_score(y_test, model.predict(X_test)),\n",
    "        \"F1-Score\": f1_score(y_test, model.predict(X_test))\n",
    "    }\n",
    "    for name, technique in techniques.items()\n",
    "    for model in [LogisticRegression(random_state=42).fit(*technique.fit_resample(X_train, y_train))]\n",
    "]\n",
    "# Display results\n",
    "results_df = pd.DataFrame(results)\n",
    "print(results_df)"
   ]
  },
  {
   "cell_type": "code",
   "execution_count": 13,
   "metadata": {},
   "outputs": [
    {
     "data": {
      "text/html": [
       "<div>\n",
       "<style scoped>\n",
       "    .dataframe tbody tr th:only-of-type {\n",
       "        vertical-align: middle;\n",
       "    }\n",
       "\n",
       "    .dataframe tbody tr th {\n",
       "        vertical-align: top;\n",
       "    }\n",
       "\n",
       "    .dataframe thead th {\n",
       "        text-align: right;\n",
       "    }\n",
       "</style>\n",
       "<table border=\"1\" class=\"dataframe\">\n",
       "  <thead>\n",
       "    <tr style=\"text-align: right;\">\n",
       "      <th></th>\n",
       "      <th>Technique</th>\n",
       "      <th>Accuracy</th>\n",
       "      <th>Precision</th>\n",
       "      <th>Recall</th>\n",
       "      <th>F1-Score</th>\n",
       "    </tr>\n",
       "  </thead>\n",
       "  <tbody>\n",
       "    <tr>\n",
       "      <th>0</th>\n",
       "      <td>ROS</td>\n",
       "      <td>0.903263</td>\n",
       "      <td>0.050290</td>\n",
       "      <td>0.916067</td>\n",
       "      <td>0.095345</td>\n",
       "    </tr>\n",
       "    <tr>\n",
       "      <th>1</th>\n",
       "      <td>RUS</td>\n",
       "      <td>0.916047</td>\n",
       "      <td>0.055539</td>\n",
       "      <td>0.880096</td>\n",
       "      <td>0.104484</td>\n",
       "    </tr>\n",
       "    <tr>\n",
       "      <th>2</th>\n",
       "      <td>SMOTE</td>\n",
       "      <td>0.906652</td>\n",
       "      <td>0.048586</td>\n",
       "      <td>0.848921</td>\n",
       "      <td>0.091912</td>\n",
       "    </tr>\n",
       "    <tr>\n",
       "      <th>3</th>\n",
       "      <td>SMOTETomek</td>\n",
       "      <td>0.906652</td>\n",
       "      <td>0.048586</td>\n",
       "      <td>0.848921</td>\n",
       "      <td>0.091912</td>\n",
       "    </tr>\n",
       "  </tbody>\n",
       "</table>\n",
       "</div>"
      ],
      "text/plain": [
       "    Technique  Accuracy  Precision    Recall  F1-Score\n",
       "0         ROS  0.903263   0.050290  0.916067  0.095345\n",
       "1         RUS  0.916047   0.055539  0.880096  0.104484\n",
       "2       SMOTE  0.906652   0.048586  0.848921  0.091912\n",
       "3  SMOTETomek  0.906652   0.048586  0.848921  0.091912"
      ]
     },
     "execution_count": 13,
     "metadata": {},
     "output_type": "execute_result"
    }
   ],
   "source": [
    "# Convert results to DataFrame\n",
    "results_df = pd.DataFrame(results)\n",
    "results_df"
   ]
  },
  {
   "cell_type": "code",
   "execution_count": 14,
   "metadata": {},
   "outputs": [
    {
     "data": {
      "text/plain": [
       "array([[74518,     0],\n",
       "       [   38,   379]], dtype=int64)"
      ]
     },
     "execution_count": 14,
     "metadata": {},
     "output_type": "execute_result"
    }
   ],
   "source": [
    "confusion_matrix(y_test,y_pred)"
   ]
  },
  {
   "cell_type": "markdown",
   "metadata": {},
   "source": [
    "## Synthetic Minority Over-sampling Technique (SMOTE)"
   ]
  },
  {
   "cell_type": "code",
   "execution_count": 15,
   "metadata": {},
   "outputs": [],
   "source": [
    "smote = SMOTE()"
   ]
  },
  {
   "cell_type": "code",
   "execution_count": 16,
   "metadata": {},
   "outputs": [],
   "source": [
    "X_smote, y_smote = smote.fit_resample(X_train, y_train)\n"
   ]
  },
  {
   "cell_type": "code",
   "execution_count": 17,
   "metadata": {},
   "outputs": [
    {
     "data": {
      "text/plain": [
       "array([[74518,     0],\n",
       "       [   38,   379]], dtype=int64)"
      ]
     },
     "execution_count": 17,
     "metadata": {},
     "output_type": "execute_result"
    }
   ],
   "source": [
    "model.fit(X_smote,y_smote)\n",
    "confusion_matrix(y_test,y_pred)\n"
   ]
  },
  {
   "cell_type": "code",
   "execution_count": 18,
   "metadata": {},
   "outputs": [
    {
     "data": {
      "text/plain": [
       "array([[74514,     4],\n",
       "       [   31,   386]], dtype=int64)"
      ]
     },
     "execution_count": 18,
     "metadata": {},
     "output_type": "execute_result"
    }
   ],
   "source": [
    "pred_smote = model.predict(X_test)\n",
    "confusion_matrix(y_test,pred_smote)"
   ]
  },
  {
   "cell_type": "code",
   "execution_count": 19,
   "metadata": {},
   "outputs": [
    {
     "data": {
      "image/png": "[encoded data removed]",
      "text/plain": [
       "<Figure size 640x480 with 1 Axes>"
      ]
     },
     "metadata": {},
     "output_type": "display_data"
    }
   ],
   "source": [
    "df_smote = pd.DataFrame(X_smote, columns=X_train.columns)\n",
    "df_smote['is_fraud'] = y_smote\n",
    "# df_smote = pd.DataFrame({'is_fraud': y_smote})\n",
    "sns.countplot(x='is_fraud', data=df_smote)\n",
    "plt.show()"
   ]
  },
  {
   "cell_type": "code",
   "execution_count": 70,
   "metadata": {},
   "outputs": [
    {
     "name": "stdout",
     "output_type": "stream",
     "text": [
      "Confusion Matrix (SMOTE Model):\n",
      "[[74514     4]\n",
      " [   31   386]]\n",
      "\n",
      "Classification Report (SMOTE Model):\n",
      "              precision    recall  f1-score   support\n",
      "\n",
      "           0    0.99958   0.99995   0.99977     74518\n",
      "           1    0.98974   0.92566   0.95663       417\n",
      "\n",
      "    accuracy                        0.99953     74935\n",
      "   macro avg    0.99466   0.96280   0.97820     74935\n",
      "weighted avg    0.99953   0.99953   0.99953     74935\n",
      "\n"
     ]
    },
    {
     "data": {
      "image/png": "[encoded data removed]",
      "text/plain": [
       "<Figure size 600x400 with 2 Axes>"
      ]
     },
     "metadata": {},
     "output_type": "display_data"
    }
   ],
   "source": [
    "# Compute confusion matrix\n",
    "cm_SMOTE = confusion_matrix(y_test, pred_smote)\n",
    "\n",
    "# Print confusion matrix and classification report\n",
    "print(\"Confusion Matrix (SMOTE Model):\")\n",
    "print(cm_SMOTE)\n",
    "\n",
    "print(\"\\nClassification Report (SMOTE Model):\")\n",
    "print(classification_report(y_test, pred_smote, digits=5))\n",
    "\n",
    "# Function to plot confusion matrix\n",
    "def plot_confusion_matrix(cm, title):\n",
    "    plt.figure(figsize=(6, 4))\n",
    "    sns.heatmap(cm, annot=True, fmt=\"d\", cmap=\"Blues\", xticklabels=[0,1], yticklabels=[0,1])\n",
    "    plt.xlabel('Predicted')\n",
    "    plt.ylabel('Actual')\n",
    "    plt.title(title)\n",
    "    plt.show()\n",
    "\n",
    "# Plot confusion matrix\n",
    "plot_confusion_matrix(cm_SMOTE, \"Confusion Matrix (SMOTE Model)\")"
   ]
  },
  {
   "cell_type": "code",
   "execution_count": 23,
   "metadata": {},
   "outputs": [],
   "source": [
    "# df_smote.value_counts()"
   ]
  },
  {
   "cell_type": "code",
   "execution_count": 24,
   "metadata": {},
   "outputs": [
    {
     "data": {
      "text/html": [
       "<div>\n",
       "<style scoped>\n",
       "    .dataframe tbody tr th:only-of-type {\n",
       "        vertical-align: middle;\n",
       "    }\n",
       "\n",
       "    .dataframe tbody tr th {\n",
       "        vertical-align: top;\n",
       "    }\n",
       "\n",
       "    .dataframe thead th {\n",
       "        text-align: right;\n",
       "    }\n",
       "</style>\n",
       "<table border=\"1\" class=\"dataframe\">\n",
       "  <thead>\n",
       "    <tr style=\"text-align: right;\">\n",
       "      <th></th>\n",
       "      <th>state</th>\n",
       "      <th>day</th>\n",
       "      <th>job_category</th>\n",
       "      <th>age_category</th>\n",
       "      <th>location</th>\n",
       "      <th>age</th>\n",
       "      <th>count_acct_num</th>\n",
       "      <th>count_zip</th>\n",
       "      <th>city_pop_log</th>\n",
       "      <th>amt_log</th>\n",
       "      <th>category_gas transport</th>\n",
       "      <th>category_grocery pos</th>\n",
       "      <th>category_shopping net</th>\n",
       "      <th>category_shopping pos</th>\n",
       "      <th>time_category_Evening</th>\n",
       "      <th>time_category_Night</th>\n",
       "      <th>is_fraud</th>\n",
       "    </tr>\n",
       "  </thead>\n",
       "  <tbody>\n",
       "    <tr>\n",
       "      <th>0</th>\n",
       "      <td>0</td>\n",
       "      <td>12</td>\n",
       "      <td>15</td>\n",
       "      <td>0</td>\n",
       "      <td>1</td>\n",
       "      <td>27</td>\n",
       "      <td>147</td>\n",
       "      <td>147</td>\n",
       "      <td>9.538276</td>\n",
       "      <td>2.157559</td>\n",
       "      <td>False</td>\n",
       "      <td>False</td>\n",
       "      <td>False</td>\n",
       "      <td>True</td>\n",
       "      <td>False</td>\n",
       "      <td>False</td>\n",
       "      <td>0</td>\n",
       "    </tr>\n",
       "    <tr>\n",
       "      <th>1</th>\n",
       "      <td>1</td>\n",
       "      <td>21</td>\n",
       "      <td>15</td>\n",
       "      <td>1</td>\n",
       "      <td>1</td>\n",
       "      <td>25</td>\n",
       "      <td>63</td>\n",
       "      <td>151</td>\n",
       "      <td>10.819578</td>\n",
       "      <td>5.504559</td>\n",
       "      <td>False</td>\n",
       "      <td>False</td>\n",
       "      <td>True</td>\n",
       "      <td>False</td>\n",
       "      <td>False</td>\n",
       "      <td>False</td>\n",
       "      <td>0</td>\n",
       "    </tr>\n",
       "    <tr>\n",
       "      <th>2</th>\n",
       "      <td>1</td>\n",
       "      <td>27</td>\n",
       "      <td>0</td>\n",
       "      <td>0</td>\n",
       "      <td>1</td>\n",
       "      <td>71</td>\n",
       "      <td>72</td>\n",
       "      <td>72</td>\n",
       "      <td>9.534523</td>\n",
       "      <td>2.244956</td>\n",
       "      <td>False</td>\n",
       "      <td>False</td>\n",
       "      <td>False</td>\n",
       "      <td>True</td>\n",
       "      <td>False</td>\n",
       "      <td>False</td>\n",
       "      <td>0</td>\n",
       "    </tr>\n",
       "    <tr>\n",
       "      <th>3</th>\n",
       "      <td>1</td>\n",
       "      <td>29</td>\n",
       "      <td>11</td>\n",
       "      <td>0</td>\n",
       "      <td>1</td>\n",
       "      <td>31</td>\n",
       "      <td>62</td>\n",
       "      <td>62</td>\n",
       "      <td>10.123065</td>\n",
       "      <td>0.845868</td>\n",
       "      <td>False</td>\n",
       "      <td>False</td>\n",
       "      <td>False</td>\n",
       "      <td>True</td>\n",
       "      <td>False</td>\n",
       "      <td>False</td>\n",
       "      <td>0</td>\n",
       "    </tr>\n",
       "    <tr>\n",
       "      <th>4</th>\n",
       "      <td>5</td>\n",
       "      <td>29</td>\n",
       "      <td>14</td>\n",
       "      <td>0</td>\n",
       "      <td>1</td>\n",
       "      <td>48</td>\n",
       "      <td>54</td>\n",
       "      <td>54</td>\n",
       "      <td>9.441928</td>\n",
       "      <td>2.634762</td>\n",
       "      <td>False</td>\n",
       "      <td>False</td>\n",
       "      <td>False</td>\n",
       "      <td>True</td>\n",
       "      <td>True</td>\n",
       "      <td>False</td>\n",
       "      <td>0</td>\n",
       "    </tr>\n",
       "    <tr>\n",
       "      <th>...</th>\n",
       "      <td>...</td>\n",
       "      <td>...</td>\n",
       "      <td>...</td>\n",
       "      <td>...</td>\n",
       "      <td>...</td>\n",
       "      <td>...</td>\n",
       "      <td>...</td>\n",
       "      <td>...</td>\n",
       "      <td>...</td>\n",
       "      <td>...</td>\n",
       "      <td>...</td>\n",
       "      <td>...</td>\n",
       "      <td>...</td>\n",
       "      <td>...</td>\n",
       "      <td>...</td>\n",
       "      <td>...</td>\n",
       "      <td>...</td>\n",
       "    </tr>\n",
       "    <tr>\n",
       "      <th>347741</th>\n",
       "      <td>4</td>\n",
       "      <td>7</td>\n",
       "      <td>7</td>\n",
       "      <td>0</td>\n",
       "      <td>1</td>\n",
       "      <td>46</td>\n",
       "      <td>140</td>\n",
       "      <td>600</td>\n",
       "      <td>10.561862</td>\n",
       "      <td>6.713848</td>\n",
       "      <td>False</td>\n",
       "      <td>False</td>\n",
       "      <td>False</td>\n",
       "      <td>True</td>\n",
       "      <td>False</td>\n",
       "      <td>True</td>\n",
       "      <td>1</td>\n",
       "    </tr>\n",
       "    <tr>\n",
       "      <th>347742</th>\n",
       "      <td>5</td>\n",
       "      <td>5</td>\n",
       "      <td>0</td>\n",
       "      <td>0</td>\n",
       "      <td>1</td>\n",
       "      <td>74</td>\n",
       "      <td>36</td>\n",
       "      <td>304</td>\n",
       "      <td>14.271279</td>\n",
       "      <td>6.115106</td>\n",
       "      <td>False</td>\n",
       "      <td>False</td>\n",
       "      <td>True</td>\n",
       "      <td>False</td>\n",
       "      <td>True</td>\n",
       "      <td>False</td>\n",
       "      <td>1</td>\n",
       "    </tr>\n",
       "    <tr>\n",
       "      <th>347743</th>\n",
       "      <td>5</td>\n",
       "      <td>2</td>\n",
       "      <td>0</td>\n",
       "      <td>0</td>\n",
       "      <td>1</td>\n",
       "      <td>33</td>\n",
       "      <td>47</td>\n",
       "      <td>336</td>\n",
       "      <td>14.733680</td>\n",
       "      <td>5.754300</td>\n",
       "      <td>False</td>\n",
       "      <td>True</td>\n",
       "      <td>False</td>\n",
       "      <td>False</td>\n",
       "      <td>False</td>\n",
       "      <td>True</td>\n",
       "      <td>1</td>\n",
       "    </tr>\n",
       "    <tr>\n",
       "      <th>347744</th>\n",
       "      <td>5</td>\n",
       "      <td>2</td>\n",
       "      <td>3</td>\n",
       "      <td>0</td>\n",
       "      <td>1</td>\n",
       "      <td>86</td>\n",
       "      <td>87</td>\n",
       "      <td>183</td>\n",
       "      <td>9.772068</td>\n",
       "      <td>5.834293</td>\n",
       "      <td>False</td>\n",
       "      <td>True</td>\n",
       "      <td>True</td>\n",
       "      <td>False</td>\n",
       "      <td>True</td>\n",
       "      <td>True</td>\n",
       "      <td>1</td>\n",
       "    </tr>\n",
       "    <tr>\n",
       "      <th>347745</th>\n",
       "      <td>4</td>\n",
       "      <td>26</td>\n",
       "      <td>5</td>\n",
       "      <td>1</td>\n",
       "      <td>1</td>\n",
       "      <td>22</td>\n",
       "      <td>157</td>\n",
       "      <td>157</td>\n",
       "      <td>10.091460</td>\n",
       "      <td>6.975035</td>\n",
       "      <td>False</td>\n",
       "      <td>False</td>\n",
       "      <td>True</td>\n",
       "      <td>True</td>\n",
       "      <td>True</td>\n",
       "      <td>False</td>\n",
       "      <td>1</td>\n",
       "    </tr>\n",
       "  </tbody>\n",
       "</table>\n",
       "<p>347746 rows × 17 columns</p>\n",
       "</div>"
      ],
      "text/plain": [
       "        state  day  job_category  age_category  location  age  count_acct_num  \\\n",
       "0           0   12            15             0         1   27             147   \n",
       "1           1   21            15             1         1   25              63   \n",
       "2           1   27             0             0         1   71              72   \n",
       "3           1   29            11             0         1   31              62   \n",
       "4           5   29            14             0         1   48              54   \n",
       "...       ...  ...           ...           ...       ...  ...             ...   \n",
       "347741      4    7             7             0         1   46             140   \n",
       "347742      5    5             0             0         1   74              36   \n",
       "347743      5    2             0             0         1   33              47   \n",
       "347744      5    2             3             0         1   86              87   \n",
       "347745      4   26             5             1         1   22             157   \n",
       "\n",
       "        count_zip  city_pop_log   amt_log  category_gas transport  \\\n",
       "0             147      9.538276  2.157559                   False   \n",
       "1             151     10.819578  5.504559                   False   \n",
       "2              72      9.534523  2.244956                   False   \n",
       "3              62     10.123065  0.845868                   False   \n",
       "4              54      9.441928  2.634762                   False   \n",
       "...           ...           ...       ...                     ...   \n",
       "347741        600     10.561862  6.713848                   False   \n",
       "347742        304     14.271279  6.115106                   False   \n",
       "347743        336     14.733680  5.754300                   False   \n",
       "347744        183      9.772068  5.834293                   False   \n",
       "347745        157     10.091460  6.975035                   False   \n",
       "\n",
       "        category_grocery pos  category_shopping net  category_shopping pos  \\\n",
       "0                      False                  False                   True   \n",
       "1                      False                   True                  False   \n",
       "2                      False                  False                   True   \n",
       "3                      False                  False                   True   \n",
       "4                      False                  False                   True   \n",
       "...                      ...                    ...                    ...   \n",
       "347741                 False                  False                   True   \n",
       "347742                 False                   True                  False   \n",
       "347743                  True                  False                  False   \n",
       "347744                  True                   True                  False   \n",
       "347745                 False                   True                   True   \n",
       "\n",
       "        time_category_Evening  time_category_Night  is_fraud  \n",
       "0                       False                False         0  \n",
       "1                       False                False         0  \n",
       "2                       False                False         0  \n",
       "3                       False                False         0  \n",
       "4                        True                False         0  \n",
       "...                       ...                  ...       ...  \n",
       "347741                  False                 True         1  \n",
       "347742                   True                False         1  \n",
       "347743                  False                 True         1  \n",
       "347744                   True                 True         1  \n",
       "347745                   True                False         1  \n",
       "\n",
       "[347746 rows x 17 columns]"
      ]
     },
     "execution_count": 24,
     "metadata": {},
     "output_type": "execute_result"
    }
   ],
   "source": [
    "df_smote"
   ]
  },
  {
   "cell_type": "code",
   "execution_count": 25,
   "metadata": {},
   "outputs": [],
   "source": [
    "# Saving the test DataFrame as a pickle file\n",
    "df_smote.to_pickle(\"df_smote.pkl\")"
   ]
  },
  {
   "cell_type": "code",
   "execution_count": 26,
   "metadata": {},
   "outputs": [
    {
     "data": {
      "text/plain": [
       "is_fraud\n",
       "0    173873\n",
       "1    173873\n",
       "Name: count, dtype: int64"
      ]
     },
     "execution_count": 26,
     "metadata": {},
     "output_type": "execute_result"
    }
   ],
   "source": [
    "df_smote['is_fraud'].value_counts()"
   ]
  },
  {
   "cell_type": "code",
   "execution_count": null,
   "metadata": {},
   "outputs": [],
   "source": []
  },
  {
   "cell_type": "markdown",
   "metadata": {},
   "source": [
    "## Random Over-Sampling (ROS)"
   ]
  },
  {
   "cell_type": "code",
   "execution_count": 27,
   "metadata": {},
   "outputs": [],
   "source": [
    "from imblearn.over_sampling import RandomOverSampler\n",
    "from sklearn.model_selection import train_test_split\n",
    "from sklearn.ensemble import RandomForestClassifier\n",
    "from sklearn.metrics import confusion_matrix, classification_report\n",
    "import matplotlib.pyplot as plt\n",
    "import seaborn as sns\n",
    "import pandas as pd\n"
   ]
  },
  {
   "cell_type": "code",
   "execution_count": 28,
   "metadata": {},
   "outputs": [
    {
     "name": "stdout",
     "output_type": "stream",
     "text": [
      "Class distribution after ROS:\n",
      " is_fraud\n",
      "0    173873\n",
      "1    173873\n",
      "Name: count, dtype: int64\n"
     ]
    }
   ],
   "source": [
    "# Splitting original dataset\n",
    "X_train, X_test, y_train, y_test = train_test_split(df.drop('is_fraud',axis=1), df['is_fraud'], test_size=0.3, random_state=42)\n",
    "\n",
    "# Initialize Random Over Sampler (ROS)\n",
    "ros = RandomOverSampler(random_state=42)\n",
    "\n",
    "# Resample the training data\n",
    "X_train_ros, y_train_ros = ros.fit_resample(X_train, y_train)\n",
    "\n",
    "# Print class distribution after ROS\n",
    "print(\"Class distribution after ROS:\\n\", pd.Series(y_train_ros).value_counts())\n",
    "\n",
    "\n"
   ]
  },
  {
   "cell_type": "code",
   "execution_count": 29,
   "metadata": {},
   "outputs": [
    {
     "data": {
      "text/plain": [
       "0         0\n",
       "1         0\n",
       "2         0\n",
       "3         0\n",
       "4         0\n",
       "         ..\n",
       "347741    1\n",
       "347742    1\n",
       "347743    1\n",
       "347744    1\n",
       "347745    1\n",
       "Name: is_fraud, Length: 347746, dtype: int64"
      ]
     },
     "execution_count": 29,
     "metadata": {},
     "output_type": "execute_result"
    }
   ],
   "source": [
    "y_train_ros"
   ]
  },
  {
   "cell_type": "code",
   "execution_count": 30,
   "metadata": {},
   "outputs": [],
   "source": [
    "# Initialize and train a model\n",
    "model_ros = RandomForestClassifier(random_state=42)\n",
    "model_ros.fit(X_train_ros, y_train_ros)\n",
    "\n",
    "# Predictions on original test set\n",
    "y_pred_ros = model_ros.predict(X_test)\n"
   ]
  },
  {
   "cell_type": "code",
   "execution_count": 69,
   "metadata": {},
   "outputs": [
    {
     "name": "stdout",
     "output_type": "stream",
     "text": [
      "Confusion Matrix (ROS Model):\n",
      "[[74517     1]\n",
      " [   33   384]]\n",
      "\n",
      "Classification Report (ROS Model):\n",
      "              precision    recall  f1-score   support\n",
      "\n",
      "           0    0.99956   0.99999   0.99977     74518\n",
      "           1    0.99740   0.92086   0.95761       417\n",
      "\n",
      "    accuracy                        0.99955     74935\n",
      "   macro avg    0.99848   0.96042   0.97869     74935\n",
      "weighted avg    0.99955   0.99955   0.99954     74935\n",
      "\n"
     ]
    },
    {
     "data": {
      "image/png": "[encoded data removed]",
      "text/plain": [
       "<Figure size 600x400 with 2 Axes>"
      ]
     },
     "metadata": {},
     "output_type": "display_data"
    }
   ],
   "source": [
    "# Compute confusion matrix\n",
    "cm_ros = confusion_matrix(y_test, y_pred_ros)\n",
    "\n",
    "# Print confusion matrix and classification report\n",
    "print(\"Confusion Matrix (ROS Model):\")\n",
    "print(cm_ros)\n",
    "\n",
    "print(\"\\nClassification Report (ROS Model):\")\n",
    "print(classification_report(y_test, y_pred_ros, digits=5))\n",
    "\n",
    "# Function to plot confusion matrix\n",
    "def plot_confusion_matrix(cm, title):\n",
    "    plt.figure(figsize=(6, 4))\n",
    "    sns.heatmap(cm, annot=True, fmt=\"d\", cmap=\"Blues\", xticklabels=[0,1], yticklabels=[0,1])\n",
    "    plt.xlabel('Predicted')\n",
    "    plt.ylabel('Actual')\n",
    "    plt.title(title)\n",
    "    plt.show()\n",
    "\n",
    "# Plot confusion matrix\n",
    "plot_confusion_matrix(cm_ros, \"Confusion Matrix (ROS Model)\")\n"
   ]
  },
  {
   "cell_type": "code",
   "execution_count": 32,
   "metadata": {},
   "outputs": [],
   "source": [
    "import pandas as pd\n",
    "\n",
    "# Combine X and y into a new DataFrame\n",
    "df_ros = pd.DataFrame(X_train_ros, columns=X_train.columns)\n",
    "df_ros['is_fraud'] = y_train_ros  # Add target column back\n",
    "\n",
    "# Save to CSV\n",
    "df_ros.to_csv('df_ros.csv', index=False)"
   ]
  },
  {
   "cell_type": "code",
   "execution_count": 33,
   "metadata": {},
   "outputs": [],
   "source": [
    "df_ros.to_pickle(\"df_ros.pkl\")"
   ]
  },
  {
   "cell_type": "code",
   "execution_count": 34,
   "metadata": {},
   "outputs": [
    {
     "data": {
      "text/html": [
       "<div>\n",
       "<style scoped>\n",
       "    .dataframe tbody tr th:only-of-type {\n",
       "        vertical-align: middle;\n",
       "    }\n",
       "\n",
       "    .dataframe tbody tr th {\n",
       "        vertical-align: top;\n",
       "    }\n",
       "\n",
       "    .dataframe thead th {\n",
       "        text-align: right;\n",
       "    }\n",
       "</style>\n",
       "<table border=\"1\" class=\"dataframe\">\n",
       "  <thead>\n",
       "    <tr style=\"text-align: right;\">\n",
       "      <th></th>\n",
       "      <th>state</th>\n",
       "      <th>day</th>\n",
       "      <th>job_category</th>\n",
       "      <th>age_category</th>\n",
       "      <th>location</th>\n",
       "      <th>age</th>\n",
       "      <th>count_acct_num</th>\n",
       "      <th>count_zip</th>\n",
       "      <th>city_pop_log</th>\n",
       "      <th>amt_log</th>\n",
       "      <th>category_gas transport</th>\n",
       "      <th>category_grocery pos</th>\n",
       "      <th>category_shopping net</th>\n",
       "      <th>category_shopping pos</th>\n",
       "      <th>time_category_Evening</th>\n",
       "      <th>time_category_Night</th>\n",
       "      <th>target</th>\n",
       "    </tr>\n",
       "  </thead>\n",
       "  <tbody>\n",
       "    <tr>\n",
       "      <th>0</th>\n",
       "      <td>0</td>\n",
       "      <td>12</td>\n",
       "      <td>15</td>\n",
       "      <td>0</td>\n",
       "      <td>1</td>\n",
       "      <td>27</td>\n",
       "      <td>147</td>\n",
       "      <td>147</td>\n",
       "      <td>9.538276</td>\n",
       "      <td>2.157559</td>\n",
       "      <td>False</td>\n",
       "      <td>False</td>\n",
       "      <td>False</td>\n",
       "      <td>True</td>\n",
       "      <td>False</td>\n",
       "      <td>False</td>\n",
       "      <td>0</td>\n",
       "    </tr>\n",
       "    <tr>\n",
       "      <th>1</th>\n",
       "      <td>1</td>\n",
       "      <td>21</td>\n",
       "      <td>15</td>\n",
       "      <td>1</td>\n",
       "      <td>1</td>\n",
       "      <td>25</td>\n",
       "      <td>63</td>\n",
       "      <td>151</td>\n",
       "      <td>10.819578</td>\n",
       "      <td>5.504559</td>\n",
       "      <td>False</td>\n",
       "      <td>False</td>\n",
       "      <td>True</td>\n",
       "      <td>False</td>\n",
       "      <td>False</td>\n",
       "      <td>False</td>\n",
       "      <td>0</td>\n",
       "    </tr>\n",
       "    <tr>\n",
       "      <th>2</th>\n",
       "      <td>1</td>\n",
       "      <td>27</td>\n",
       "      <td>0</td>\n",
       "      <td>0</td>\n",
       "      <td>1</td>\n",
       "      <td>71</td>\n",
       "      <td>72</td>\n",
       "      <td>72</td>\n",
       "      <td>9.534523</td>\n",
       "      <td>2.244956</td>\n",
       "      <td>False</td>\n",
       "      <td>False</td>\n",
       "      <td>False</td>\n",
       "      <td>True</td>\n",
       "      <td>False</td>\n",
       "      <td>False</td>\n",
       "      <td>0</td>\n",
       "    </tr>\n",
       "    <tr>\n",
       "      <th>3</th>\n",
       "      <td>1</td>\n",
       "      <td>29</td>\n",
       "      <td>11</td>\n",
       "      <td>0</td>\n",
       "      <td>1</td>\n",
       "      <td>31</td>\n",
       "      <td>62</td>\n",
       "      <td>62</td>\n",
       "      <td>10.123065</td>\n",
       "      <td>0.845868</td>\n",
       "      <td>False</td>\n",
       "      <td>False</td>\n",
       "      <td>False</td>\n",
       "      <td>True</td>\n",
       "      <td>False</td>\n",
       "      <td>False</td>\n",
       "      <td>0</td>\n",
       "    </tr>\n",
       "    <tr>\n",
       "      <th>4</th>\n",
       "      <td>5</td>\n",
       "      <td>29</td>\n",
       "      <td>14</td>\n",
       "      <td>0</td>\n",
       "      <td>1</td>\n",
       "      <td>48</td>\n",
       "      <td>54</td>\n",
       "      <td>54</td>\n",
       "      <td>9.441928</td>\n",
       "      <td>2.634762</td>\n",
       "      <td>False</td>\n",
       "      <td>False</td>\n",
       "      <td>False</td>\n",
       "      <td>True</td>\n",
       "      <td>True</td>\n",
       "      <td>False</td>\n",
       "      <td>0</td>\n",
       "    </tr>\n",
       "    <tr>\n",
       "      <th>...</th>\n",
       "      <td>...</td>\n",
       "      <td>...</td>\n",
       "      <td>...</td>\n",
       "      <td>...</td>\n",
       "      <td>...</td>\n",
       "      <td>...</td>\n",
       "      <td>...</td>\n",
       "      <td>...</td>\n",
       "      <td>...</td>\n",
       "      <td>...</td>\n",
       "      <td>...</td>\n",
       "      <td>...</td>\n",
       "      <td>...</td>\n",
       "      <td>...</td>\n",
       "      <td>...</td>\n",
       "      <td>...</td>\n",
       "      <td>...</td>\n",
       "    </tr>\n",
       "    <tr>\n",
       "      <th>347741</th>\n",
       "      <td>5</td>\n",
       "      <td>3</td>\n",
       "      <td>3</td>\n",
       "      <td>0</td>\n",
       "      <td>1</td>\n",
       "      <td>78</td>\n",
       "      <td>55</td>\n",
       "      <td>96</td>\n",
       "      <td>10.462560</td>\n",
       "      <td>5.680002</td>\n",
       "      <td>False</td>\n",
       "      <td>True</td>\n",
       "      <td>False</td>\n",
       "      <td>False</td>\n",
       "      <td>False</td>\n",
       "      <td>True</td>\n",
       "      <td>1</td>\n",
       "    </tr>\n",
       "    <tr>\n",
       "      <th>347742</th>\n",
       "      <td>6</td>\n",
       "      <td>5</td>\n",
       "      <td>7</td>\n",
       "      <td>0</td>\n",
       "      <td>1</td>\n",
       "      <td>28</td>\n",
       "      <td>29</td>\n",
       "      <td>167</td>\n",
       "      <td>12.269108</td>\n",
       "      <td>5.948714</td>\n",
       "      <td>False</td>\n",
       "      <td>True</td>\n",
       "      <td>False</td>\n",
       "      <td>False</td>\n",
       "      <td>False</td>\n",
       "      <td>False</td>\n",
       "      <td>1</td>\n",
       "    </tr>\n",
       "    <tr>\n",
       "      <th>347743</th>\n",
       "      <td>8</td>\n",
       "      <td>1</td>\n",
       "      <td>6</td>\n",
       "      <td>0</td>\n",
       "      <td>1</td>\n",
       "      <td>61</td>\n",
       "      <td>85</td>\n",
       "      <td>85</td>\n",
       "      <td>8.323851</td>\n",
       "      <td>3.000222</td>\n",
       "      <td>False</td>\n",
       "      <td>False</td>\n",
       "      <td>False</td>\n",
       "      <td>False</td>\n",
       "      <td>True</td>\n",
       "      <td>False</td>\n",
       "      <td>1</td>\n",
       "    </tr>\n",
       "    <tr>\n",
       "      <th>347744</th>\n",
       "      <td>4</td>\n",
       "      <td>26</td>\n",
       "      <td>5</td>\n",
       "      <td>1</td>\n",
       "      <td>1</td>\n",
       "      <td>22</td>\n",
       "      <td>157</td>\n",
       "      <td>157</td>\n",
       "      <td>10.091460</td>\n",
       "      <td>6.980039</td>\n",
       "      <td>False</td>\n",
       "      <td>False</td>\n",
       "      <td>True</td>\n",
       "      <td>False</td>\n",
       "      <td>True</td>\n",
       "      <td>False</td>\n",
       "      <td>1</td>\n",
       "    </tr>\n",
       "    <tr>\n",
       "      <th>347745</th>\n",
       "      <td>5</td>\n",
       "      <td>6</td>\n",
       "      <td>4</td>\n",
       "      <td>0</td>\n",
       "      <td>1</td>\n",
       "      <td>38</td>\n",
       "      <td>87</td>\n",
       "      <td>449</td>\n",
       "      <td>11.521092</td>\n",
       "      <td>2.380472</td>\n",
       "      <td>False</td>\n",
       "      <td>False</td>\n",
       "      <td>False</td>\n",
       "      <td>False</td>\n",
       "      <td>True</td>\n",
       "      <td>False</td>\n",
       "      <td>1</td>\n",
       "    </tr>\n",
       "  </tbody>\n",
       "</table>\n",
       "<p>347746 rows × 17 columns</p>\n",
       "</div>"
      ],
      "text/plain": [
       "        state  day  job_category  age_category  location  age  count_acct_num  \\\n",
       "0           0   12            15             0         1   27             147   \n",
       "1           1   21            15             1         1   25              63   \n",
       "2           1   27             0             0         1   71              72   \n",
       "3           1   29            11             0         1   31              62   \n",
       "4           5   29            14             0         1   48              54   \n",
       "...       ...  ...           ...           ...       ...  ...             ...   \n",
       "347741      5    3             3             0         1   78              55   \n",
       "347742      6    5             7             0         1   28              29   \n",
       "347743      8    1             6             0         1   61              85   \n",
       "347744      4   26             5             1         1   22             157   \n",
       "347745      5    6             4             0         1   38              87   \n",
       "\n",
       "        count_zip  city_pop_log   amt_log  category_gas transport  \\\n",
       "0             147      9.538276  2.157559                   False   \n",
       "1             151     10.819578  5.504559                   False   \n",
       "2              72      9.534523  2.244956                   False   \n",
       "3              62     10.123065  0.845868                   False   \n",
       "4              54      9.441928  2.634762                   False   \n",
       "...           ...           ...       ...                     ...   \n",
       "347741         96     10.462560  5.680002                   False   \n",
       "347742        167     12.269108  5.948714                   False   \n",
       "347743         85      8.323851  3.000222                   False   \n",
       "347744        157     10.091460  6.980039                   False   \n",
       "347745        449     11.521092  2.380472                   False   \n",
       "\n",
       "        category_grocery pos  category_shopping net  category_shopping pos  \\\n",
       "0                      False                  False                   True   \n",
       "1                      False                   True                  False   \n",
       "2                      False                  False                   True   \n",
       "3                      False                  False                   True   \n",
       "4                      False                  False                   True   \n",
       "...                      ...                    ...                    ...   \n",
       "347741                  True                  False                  False   \n",
       "347742                  True                  False                  False   \n",
       "347743                 False                  False                  False   \n",
       "347744                 False                   True                  False   \n",
       "347745                 False                  False                  False   \n",
       "\n",
       "        time_category_Evening  time_category_Night  target  \n",
       "0                       False                False       0  \n",
       "1                       False                False       0  \n",
       "2                       False                False       0  \n",
       "3                       False                False       0  \n",
       "4                        True                False       0  \n",
       "...                       ...                  ...     ...  \n",
       "347741                  False                 True       1  \n",
       "347742                  False                False       1  \n",
       "347743                   True                False       1  \n",
       "347744                   True                False       1  \n",
       "347745                   True                False       1  \n",
       "\n",
       "[347746 rows x 17 columns]"
      ]
     },
     "execution_count": 34,
     "metadata": {},
     "output_type": "execute_result"
    }
   ],
   "source": [
    "df_ros"
   ]
  },
  {
   "cell_type": "code",
   "execution_count": 35,
   "metadata": {},
   "outputs": [
    {
     "data": {
      "image/png": "[encoded data removed]",
      "text/plain": [
       "<Figure size 640x480 with 1 Axes>"
      ]
     },
     "metadata": {},
     "output_type": "display_data"
    }
   ],
   "source": [
    "sns.countplot(x='is_fraud', data=df_ros)\n",
    "plt.show()"
   ]
  },
  {
   "cell_type": "markdown",
   "metadata": {},
   "source": [
    "## Random Under-Sampling (RUS)"
   ]
  },
  {
   "cell_type": "code",
   "execution_count": 36,
   "metadata": {},
   "outputs": [
    {
     "name": "stdout",
     "output_type": "stream",
     "text": [
      "Class distribution after RUS:\n",
      " is_fraud\n",
      "0    974\n",
      "1    974\n",
      "Name: count, dtype: int64\n"
     ]
    }
   ],
   "source": [
    "# Splitting original dataset\n",
    "X_train, X_test, y_train, y_test = train_test_split(df.drop('is_fraud',axis=1), df['is_fraud'], test_size=0.3, random_state=42)\n",
    "# Initialize Random Under Sampler (RUS)\n",
    "rus = RandomUnderSampler(random_state=42)\n",
    "\n",
    "# Resample the training data\n",
    "X_train_rus, y_train_rus = rus.fit_resample(X_train, y_train)\n",
    "\n",
    "# Print class distribution after RUS\n",
    "print(\"Class distribution after RUS:\\n\", pd.Series(y_train_rus).value_counts())"
   ]
  },
  {
   "cell_type": "code",
   "execution_count": 37,
   "metadata": {},
   "outputs": [
    {
     "data": {
      "text/plain": [
       "(1948,)"
      ]
     },
     "execution_count": 37,
     "metadata": {},
     "output_type": "execute_result"
    }
   ],
   "source": [
    "y_train_rus.shape"
   ]
  },
  {
   "cell_type": "code",
   "execution_count": 38,
   "metadata": {},
   "outputs": [],
   "source": [
    "# Initialize and train a model\n",
    "model_rus = RandomForestClassifier(random_state=42)\n",
    "model_rus.fit(X_train_rus, y_train_rus)\n",
    "\n",
    "# Predictions on original test set\n",
    "y_pred_rus = model_rus.predict(X_test)\n"
   ]
  },
  {
   "cell_type": "code",
   "execution_count": 72,
   "metadata": {},
   "outputs": [
    {
     "name": "stdout",
     "output_type": "stream",
     "text": [
      "Confusion Matrix (RUS Model):\n",
      "[[72950  1568]\n",
      " [    9   408]]\n",
      "\n",
      "Classification Report (RUS Model):\n",
      "              precision    recall  f1-score   support\n",
      "\n",
      "           0    0.99988   0.97896   0.98931     74518\n",
      "           1    0.20648   0.97842   0.34099       417\n",
      "\n",
      "    accuracy                        0.97896     74935\n",
      "   macro avg    0.60318   0.97869   0.66515     74935\n",
      "weighted avg    0.99546   0.97896   0.98570     74935\n",
      "\n"
     ]
    },
    {
     "data": {
      "image/png": "[encoded data removed]",
      "text/plain": [
       "<Figure size 600x400 with 2 Axes>"
      ]
     },
     "metadata": {},
     "output_type": "display_data"
    }
   ],
   "source": [
    "# Compute confusion matrix\n",
    "cm_rus = confusion_matrix(y_test, y_pred_rus)\n",
    "\n",
    "# Print confusion matrix and classification report\n",
    "print(\"Confusion Matrix (RUS Model):\")\n",
    "print(cm_rus)\n",
    "\n",
    "print(\"\\nClassification Report (RUS Model):\")\n",
    "print(classification_report(y_test, y_pred_rus, digits=5))\n",
    "\n",
    "# Function to plot confusion matrix\n",
    "def plot_confusion_matrix(cm, title):\n",
    "    plt.figure(figsize=(6, 4))\n",
    "    sns.heatmap(cm, annot=True, fmt=\"d\", cmap=\"Blues\", xticklabels=[0,1], yticklabels=[0,1])\n",
    "    plt.xlabel('Predicted')\n",
    "    plt.ylabel('Actual')\n",
    "    plt.title(title)\n",
    "    plt.show()\n",
    "\n",
    "# Plot confusion matrix\n",
    "plot_confusion_matrix(cm_rus, \"Confusion Matrix (RUS Model)\")\n"
   ]
  },
  {
   "cell_type": "code",
   "execution_count": 40,
   "metadata": {},
   "outputs": [],
   "source": [
    "import pandas as pd\n",
    "\n",
    "# Combine X and y into a new DataFrame\n",
    "df_rus = pd.DataFrame(X_train_rus, columns=X_train.columns)\n",
    "df_rus['is_fraud'] = y_train_rus  # Add target column back\n",
    "\n",
    "# Save to CSV\n",
    "df_rus.to_csv('df_rus.csv', index=False)"
   ]
  },
  {
   "cell_type": "code",
   "execution_count": 41,
   "metadata": {},
   "outputs": [
    {
     "data": {
      "text/plain": [
       "(1948, 17)"
      ]
     },
     "execution_count": 41,
     "metadata": {},
     "output_type": "execute_result"
    }
   ],
   "source": [
    "df_rus.shape"
   ]
  },
  {
   "cell_type": "code",
   "execution_count": 42,
   "metadata": {},
   "outputs": [
    {
     "data": {
      "text/plain": [
       "target\n",
       "0    974\n",
       "1    974\n",
       "Name: count, dtype: int64"
      ]
     },
     "execution_count": 42,
     "metadata": {},
     "output_type": "execute_result"
    }
   ],
   "source": [
    "df_rus['is_fraud'].value_counts()"
   ]
  },
  {
   "cell_type": "markdown",
   "metadata": {},
   "source": [
    "## SMOTETomek"
   ]
  },
  {
   "cell_type": "code",
   "execution_count": 50,
   "metadata": {},
   "outputs": [
    {
     "name": "stdout",
     "output_type": "stream",
     "text": [
      "[[74514     4]\n",
      " [   29   388]]\n"
     ]
    }
   ],
   "source": [
    "# Splitting original dataset\n",
    "X_train, X_test, y_train, y_test = train_test_split(df.drop('is_fraud',axis=1), df['is_fraud'], test_size=0.3, random_state=42)\n",
    "\n",
    "# Apply SMOTETomek\n",
    "smotetomek = SMOTETomek(random_state=42)\n",
    "X_resampled, y_resampled = smotetomek.fit_resample(X_train, y_train)\n",
    "\n",
    "# Train a model\n",
    "model = RandomForestClassifier(random_state=42)\n",
    "model.fit(X_resampled, y_resampled)\n",
    "\n",
    "# Make predictions\n",
    "y_pred = model.predict(X_test)\n",
    "\n",
    "# Confusion matrix\n",
    "print(confusion_matrix(y_test, y_pred))"
   ]
  },
  {
   "cell_type": "code",
   "execution_count": 51,
   "metadata": {},
   "outputs": [
    {
     "data": {
      "text/plain": [
       "(347746, 16)"
      ]
     },
     "execution_count": 51,
     "metadata": {},
     "output_type": "execute_result"
    }
   ],
   "source": [
    "X_resampled.shape"
   ]
  },
  {
   "cell_type": "code",
   "execution_count": 58,
   "metadata": {},
   "outputs": [],
   "source": [
    "import pandas as pd\n",
    "\n",
    "# Combine X and y into a new DataFrame\n",
    "df_resampled = pd.DataFrame(X_resampled, columns=X_train.columns)\n",
    "df_resampled['is_fraud'] = y_resampled  # Add target column back\n",
    "\n",
    "# Save to CSV\n",
    "df_resampled.to_csv('SMOTETomek_df.csv', index=False)\n"
   ]
  },
  {
   "cell_type": "code",
   "execution_count": 59,
   "metadata": {},
   "outputs": [],
   "source": [
    "\n",
    "# Saving the test DataFrame as a pickle file\n",
    "df_resampled.to_pickle(\"SMOTETomek_df.pkl\")"
   ]
  },
  {
   "cell_type": "code",
   "execution_count": 61,
   "metadata": {},
   "outputs": [
    {
     "data": {
      "text/plain": [
       "(347746, 17)"
      ]
     },
     "execution_count": 61,
     "metadata": {},
     "output_type": "execute_result"
    }
   ],
   "source": [
    "df_resampled.shape"
   ]
  },
  {
   "cell_type": "code",
   "execution_count": 62,
   "metadata": {},
   "outputs": [
    {
     "data": {
      "image/png": "[encoded data removed]",
      "text/plain": [
       "<Figure size 640x480 with 1 Axes>"
      ]
     },
     "metadata": {},
     "output_type": "display_data"
    }
   ],
   "source": [
    "sns.countplot(x='is_fraud', data=df_resampled)\n",
    "plt.show()"
   ]
  },
  {
   "cell_type": "code",
   "execution_count": 71,
   "metadata": {},
   "outputs": [
    {
     "name": "stdout",
     "output_type": "stream",
     "text": [
      "Confusion Matrix (SMOTETomek Model):\n",
      "[[74514     4]\n",
      " [   29   388]]\n",
      "\n",
      "Classification Report (SMOTETomek Model):\n",
      "              precision    recall  f1-score   support\n",
      "\n",
      "           0    0.99961   0.99995   0.99978     74518\n",
      "           1    0.98980   0.93046   0.95921       417\n",
      "\n",
      "    accuracy                        0.99956     74935\n",
      "   macro avg    0.99470   0.96520   0.97949     74935\n",
      "weighted avg    0.99956   0.99956   0.99955     74935\n",
      "\n"
     ]
    },
    {
     "data": {
      "image/png": "[encoded data removed]",
      "text/plain": [
       "<Figure size 600x400 with 2 Axes>"
      ]
     },
     "metadata": {},
     "output_type": "display_data"
    }
   ],
   "source": [
    "# Compute confusion matrix\n",
    "cm_SMOTETomek = confusion_matrix(y_test, y_pred)\n",
    "\n",
    "# Print confusion matrix and classification report\n",
    "print(\"Confusion Matrix (SMOTETomek Model):\")\n",
    "print(cm_SMOTETomek)\n",
    "\n",
    "print(\"\\nClassification Report (SMOTETomek Model):\")\n",
    "print(classification_report(y_test, y_pred, digits=5))\n",
    "\n",
    "# Function to plot confusion matrix\n",
    "def plot_confusion_matrix(cm, title):\n",
    "    plt.figure(figsize=(6, 4))\n",
    "    sns.heatmap(cm, annot=True, fmt=\"d\", cmap=\"Blues\", xticklabels=[0,1], yticklabels=[0,1])\n",
    "    plt.xlabel('Predicted')\n",
    "    plt.ylabel('Actual')\n",
    "    plt.title(title)\n",
    "    plt.show()\n",
    "\n",
    "# Plot confusion matrix\n",
    "plot_confusion_matrix(cm_SMOTETomek, \"Confusion Matrix (SMOTETomek Model)\")"
   ]
  },
  {
   "cell_type": "markdown",
   "metadata": {},
   "source": [
    "## Conclusion"
   ]
  },
  {
   "cell_type": "markdown",
   "metadata": {},
   "source": [
    "SMOTETomek performs the best overall, balancing precision and recall for both classes, especially the 'is fraud' (class 1), with high F1-score and accuracy.\n",
    "RUS struggles with low precision for class 1, despite having high recall. It’s less reliable due to many false positives.\n",
    "ROS and SMOTE both perform well, with strong precision and recall for class 1, but SMOTETomek still has a slight edge in balancing both metrics.\n",
    "Overall, SMOTETomek appears to be the most balanced and effective model."
   ]
  },
  {
   "cell_type": "code",
   "execution_count": null,
   "metadata": {},
   "outputs": [],
   "source": []
  }
 ],
 "metadata": {
  "kernelspec": {
   "display_name": "Python 3 (ipykernel)",
   "language": "python",
   "name": "python3"
  },
  "language_info": {
   "codemirror_mode": {
    "name": "ipython",
    "version": 3
   },
   "file_extension": ".py",
   "mimetype": "text/x-python",
   "name": "python",
   "nbconvert_exporter": "python",
   "pygments_lexer": "ipython3",
   "version": "3.12.7"
  }
 },
 "nbformat": 4,
 "nbformat_minor": 4
}
